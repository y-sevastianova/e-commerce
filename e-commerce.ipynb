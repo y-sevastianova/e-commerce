{
 "cells": [
  {
   "cell_type": "markdown",
   "metadata": {},
   "source": [
    "# Проект e-commerce"
   ]
  },
  {
   "cell_type": "markdown",
   "metadata": {},
   "source": [
    "#### Входные данные\n",
    "\n",
    "**olist_customers_datase.csv — таблица с уникальными идентификаторами пользователей**  \n",
    "customer_id — позаказный идентификатор пользователя  \n",
    "customer_unique_id —  уникальный идентификатор пользователя  (аналог номера паспорта)   \n",
    "customer_zip_code_prefix —  почтовый индекс пользователя  \n",
    "customer_city —  город доставки пользователя  \n",
    "customer_state —  штат доставки пользователя  \n",
    "\n",
    "**olist_orders_dataset.csv —  таблица заказов**  \n",
    "order_id —  уникальный идентификатор заказа (номер чека)  \n",
    "customer_id —  позаказный идентификатор пользователя  \n",
    "order_status —  статус заказа  \n",
    "\n",
    "\n",
    "- created —  создан\n",
    "- approved —  подтверждён\n",
    "- invoiced —  выставлен счёт\n",
    "- processing —  в процессе сборки заказа\n",
    "- shipped —  отгружен со склада\n",
    "- delivered —  доставлен пользователю\n",
    "- unavailable —  недоступен\n",
    "- canceled —  отменён\n",
    "\n",
    "\n",
    "order_purchase_timestamp —  время создания заказа  \n",
    "order_approved_at —  время подтверждения оплаты заказа  \n",
    "order_delivered_carrier_date —  время передачи заказа в логистическую службу  \n",
    "order_delivered_customer_date —  время доставки заказа  \n",
    "order_estimated_delivery_date —  обещанная дата доставки  \n",
    "\n",
    "**olist_order_items_dataset.csv —  товарные позиции, входящие в заказы**  \n",
    "order_id —  уникальный идентификатор заказа (номер чека)  \n",
    "order_item_id —  идентификатор товара внутри одного заказа  \n",
    "product_id —  ид товара (аналог штрихкода)  \n",
    "seller_id — ид производителя товара  \n",
    "shipping_limit_date —  максимальная дата доставки продавцом для передачи заказа партнеру по логистике  \n",
    "price —  цена за единицу товара  \n",
    "freight_value —  вес товара   "
   ]
  },
  {
   "cell_type": "code",
   "execution_count": 2,
   "metadata": {},
   "outputs": [],
   "source": [
    "import pandas as pd\n",
    "\n",
    "import requests\n",
    "from urllib.parse import urlencode\n",
    "\n",
    "import seaborn as sns\n",
    "import matplotlib.pyplot as plt\n",
    "\n",
    "import numpy as np\n",
    "from datetime import timedelta\n",
    "from calendar import monthrange"
   ]
  },
  {
   "cell_type": "markdown",
   "metadata": {},
   "source": [
    "## Загрузим и исследуем данные"
   ]
  },
  {
   "cell_type": "code",
   "execution_count": 3,
   "metadata": {},
   "outputs": [],
   "source": [
    "def url_ydisk (url):\n",
    "    # api\n",
    "    base_url = 'https://cloud-api.yandex.net/v1/disk/public/resources/download?'\n",
    "    public_key = url # ссылка на файл \n",
    "\n",
    "    # Получаем загрузочную ссылку\n",
    "    final_url = base_url + urlencode(dict(public_key=public_key))\n",
    "    response = requests.get(final_url)\n",
    "    download_url = response.json()['href']\n",
    "\n",
    "    # Загружаем файл в df\n",
    "    return download_url"
   ]
  },
  {
   "cell_type": "code",
   "execution_count": 4,
   "metadata": {},
   "outputs": [],
   "source": [
    "# если ссылки не работают, использую локальные файлы:\n",
    "# customers = pd.read_csv('./data/olist_customers_dataset-1.csv') \n",
    "# orders = pd.read_csv('./data/olist_orders_dataset.csv', parse_dates = ['order_purchase_timestamp', \n",
    "#                                                                 'order_approved_at', \n",
    "#                                                                 'order_delivered_carrier_date',\n",
    "#                                                                 'order_delivered_customer_date',\n",
    "#                                                                 'order_estimated_delivery_date']) \n",
    "# items = pd.read_csv('./data/olist_order_items_dataset.csv') "
   ]
  },
  {
   "cell_type": "code",
   "execution_count": 3,
   "metadata": {},
   "outputs": [],
   "source": [
    "customers = pd.read_csv(url_ydisk('https://disk.yandex.ru/d/QXrVDUoQvFhIcg'))\n",
    "orders = pd.read_csv(url_ydisk('https://disk.yandex.ru/d/0zWmh1bYP6REbw'), \n",
    "                     parse_dates = ['order_purchase_timestamp', \n",
    "                                    'order_approved_at', \n",
    "                                    'order_delivered_carrier_date',\n",
    "                                    'order_delivered_customer_date',\n",
    "                                    'order_estimated_delivery_date'])\n",
    "items = pd.read_csv(url_ydisk('https://disk.yandex.ru/d/xCsQ0FiC-Ue4Lg'))"
   ]
  },
  {
   "cell_type": "code",
   "execution_count": 5,
   "metadata": {},
   "outputs": [
    {
     "name": "stdout",
     "output_type": "stream",
     "text": [
      "<class 'pandas.core.frame.DataFrame'>\n",
      "RangeIndex: 99441 entries, 0 to 99440\n",
      "Data columns (total 5 columns):\n",
      " #   Column                    Non-Null Count  Dtype \n",
      "---  ------                    --------------  ----- \n",
      " 0   customer_id               99441 non-null  object\n",
      " 1   customer_unique_id        99441 non-null  object\n",
      " 2   customer_zip_code_prefix  99441 non-null  int64 \n",
      " 3   customer_city             99441 non-null  object\n",
      " 4   customer_state            99441 non-null  object\n",
      "dtypes: int64(1), object(4)\n",
      "memory usage: 3.8+ MB\n",
      "None\n"
     ]
    },
    {
     "data": {
      "text/html": [
       "<div>\n",
       "<style scoped>\n",
       "    .dataframe tbody tr th:only-of-type {\n",
       "        vertical-align: middle;\n",
       "    }\n",
       "\n",
       "    .dataframe tbody tr th {\n",
       "        vertical-align: top;\n",
       "    }\n",
       "\n",
       "    .dataframe thead th {\n",
       "        text-align: right;\n",
       "    }\n",
       "</style>\n",
       "<table border=\"1\" class=\"dataframe\">\n",
       "  <thead>\n",
       "    <tr style=\"text-align: right;\">\n",
       "      <th></th>\n",
       "      <th>customer_id</th>\n",
       "      <th>customer_unique_id</th>\n",
       "      <th>customer_zip_code_prefix</th>\n",
       "      <th>customer_city</th>\n",
       "      <th>customer_state</th>\n",
       "    </tr>\n",
       "  </thead>\n",
       "  <tbody>\n",
       "    <tr>\n",
       "      <th>0</th>\n",
       "      <td>06b8999e2fba1a1fbc88172c00ba8bc7</td>\n",
       "      <td>861eff4711a542e4b93843c6dd7febb0</td>\n",
       "      <td>14409</td>\n",
       "      <td>franca</td>\n",
       "      <td>SP</td>\n",
       "    </tr>\n",
       "    <tr>\n",
       "      <th>1</th>\n",
       "      <td>18955e83d337fd6b2def6b18a428ac77</td>\n",
       "      <td>290c77bc529b7ac935b93aa66c333dc3</td>\n",
       "      <td>9790</td>\n",
       "      <td>sao bernardo do campo</td>\n",
       "      <td>SP</td>\n",
       "    </tr>\n",
       "    <tr>\n",
       "      <th>2</th>\n",
       "      <td>4e7b3e00288586ebd08712fdd0374a03</td>\n",
       "      <td>060e732b5b29e8181a18229c7b0b2b5e</td>\n",
       "      <td>1151</td>\n",
       "      <td>sao paulo</td>\n",
       "      <td>SP</td>\n",
       "    </tr>\n",
       "  </tbody>\n",
       "</table>\n",
       "</div>"
      ],
      "text/plain": [
       "                        customer_id                customer_unique_id  \\\n",
       "0  06b8999e2fba1a1fbc88172c00ba8bc7  861eff4711a542e4b93843c6dd7febb0   \n",
       "1  18955e83d337fd6b2def6b18a428ac77  290c77bc529b7ac935b93aa66c333dc3   \n",
       "2  4e7b3e00288586ebd08712fdd0374a03  060e732b5b29e8181a18229c7b0b2b5e   \n",
       "\n",
       "   customer_zip_code_prefix          customer_city customer_state  \n",
       "0                     14409                 franca             SP  \n",
       "1                      9790  sao bernardo do campo             SP  \n",
       "2                      1151              sao paulo             SP  "
      ]
     },
     "execution_count": 5,
     "metadata": {},
     "output_type": "execute_result"
    }
   ],
   "source": [
    "print(customers.info())\n",
    "customers.head(3)"
   ]
  },
  {
   "cell_type": "code",
   "execution_count": 6,
   "metadata": {},
   "outputs": [
    {
     "name": "stdout",
     "output_type": "stream",
     "text": [
      "<class 'pandas.core.frame.DataFrame'>\n",
      "RangeIndex: 99441 entries, 0 to 99440\n",
      "Data columns (total 8 columns):\n",
      " #   Column                         Non-Null Count  Dtype         \n",
      "---  ------                         --------------  -----         \n",
      " 0   order_id                       99441 non-null  object        \n",
      " 1   customer_id                    99441 non-null  object        \n",
      " 2   order_status                   99441 non-null  object        \n",
      " 3   order_purchase_timestamp       99441 non-null  datetime64[ns]\n",
      " 4   order_approved_at              99281 non-null  datetime64[ns]\n",
      " 5   order_delivered_carrier_date   97658 non-null  datetime64[ns]\n",
      " 6   order_delivered_customer_date  96476 non-null  datetime64[ns]\n",
      " 7   order_estimated_delivery_date  99441 non-null  datetime64[ns]\n",
      "dtypes: datetime64[ns](5), object(3)\n",
      "memory usage: 6.1+ MB\n",
      "None\n"
     ]
    },
    {
     "data": {
      "text/html": [
       "<div>\n",
       "<style scoped>\n",
       "    .dataframe tbody tr th:only-of-type {\n",
       "        vertical-align: middle;\n",
       "    }\n",
       "\n",
       "    .dataframe tbody tr th {\n",
       "        vertical-align: top;\n",
       "    }\n",
       "\n",
       "    .dataframe thead th {\n",
       "        text-align: right;\n",
       "    }\n",
       "</style>\n",
       "<table border=\"1\" class=\"dataframe\">\n",
       "  <thead>\n",
       "    <tr style=\"text-align: right;\">\n",
       "      <th></th>\n",
       "      <th>order_id</th>\n",
       "      <th>customer_id</th>\n",
       "      <th>order_status</th>\n",
       "      <th>order_purchase_timestamp</th>\n",
       "      <th>order_approved_at</th>\n",
       "      <th>order_delivered_carrier_date</th>\n",
       "      <th>order_delivered_customer_date</th>\n",
       "      <th>order_estimated_delivery_date</th>\n",
       "    </tr>\n",
       "  </thead>\n",
       "  <tbody>\n",
       "    <tr>\n",
       "      <th>0</th>\n",
       "      <td>e481f51cbdc54678b7cc49136f2d6af7</td>\n",
       "      <td>9ef432eb6251297304e76186b10a928d</td>\n",
       "      <td>delivered</td>\n",
       "      <td>2017-10-02 10:56:33</td>\n",
       "      <td>2017-10-02 11:07:15</td>\n",
       "      <td>2017-10-04 19:55:00</td>\n",
       "      <td>2017-10-10 21:25:13</td>\n",
       "      <td>2017-10-18</td>\n",
       "    </tr>\n",
       "    <tr>\n",
       "      <th>1</th>\n",
       "      <td>53cdb2fc8bc7dce0b6741e2150273451</td>\n",
       "      <td>b0830fb4747a6c6d20dea0b8c802d7ef</td>\n",
       "      <td>delivered</td>\n",
       "      <td>2018-07-24 20:41:37</td>\n",
       "      <td>2018-07-26 03:24:27</td>\n",
       "      <td>2018-07-26 14:31:00</td>\n",
       "      <td>2018-08-07 15:27:45</td>\n",
       "      <td>2018-08-13</td>\n",
       "    </tr>\n",
       "    <tr>\n",
       "      <th>2</th>\n",
       "      <td>47770eb9100c2d0c44946d9cf07ec65d</td>\n",
       "      <td>41ce2a54c0b03bf3443c3d931a367089</td>\n",
       "      <td>delivered</td>\n",
       "      <td>2018-08-08 08:38:49</td>\n",
       "      <td>2018-08-08 08:55:23</td>\n",
       "      <td>2018-08-08 13:50:00</td>\n",
       "      <td>2018-08-17 18:06:29</td>\n",
       "      <td>2018-09-04</td>\n",
       "    </tr>\n",
       "  </tbody>\n",
       "</table>\n",
       "</div>"
      ],
      "text/plain": [
       "                           order_id                       customer_id  \\\n",
       "0  e481f51cbdc54678b7cc49136f2d6af7  9ef432eb6251297304e76186b10a928d   \n",
       "1  53cdb2fc8bc7dce0b6741e2150273451  b0830fb4747a6c6d20dea0b8c802d7ef   \n",
       "2  47770eb9100c2d0c44946d9cf07ec65d  41ce2a54c0b03bf3443c3d931a367089   \n",
       "\n",
       "  order_status order_purchase_timestamp   order_approved_at  \\\n",
       "0    delivered      2017-10-02 10:56:33 2017-10-02 11:07:15   \n",
       "1    delivered      2018-07-24 20:41:37 2018-07-26 03:24:27   \n",
       "2    delivered      2018-08-08 08:38:49 2018-08-08 08:55:23   \n",
       "\n",
       "  order_delivered_carrier_date order_delivered_customer_date  \\\n",
       "0          2017-10-04 19:55:00           2017-10-10 21:25:13   \n",
       "1          2018-07-26 14:31:00           2018-08-07 15:27:45   \n",
       "2          2018-08-08 13:50:00           2018-08-17 18:06:29   \n",
       "\n",
       "  order_estimated_delivery_date  \n",
       "0                    2017-10-18  \n",
       "1                    2018-08-13  \n",
       "2                    2018-09-04  "
      ]
     },
     "execution_count": 6,
     "metadata": {},
     "output_type": "execute_result"
    }
   ],
   "source": [
    "print(orders.info())\n",
    "orders.head(3)"
   ]
  },
  {
   "cell_type": "code",
   "execution_count": 7,
   "metadata": {},
   "outputs": [
    {
     "name": "stdout",
     "output_type": "stream",
     "text": [
      "<class 'pandas.core.frame.DataFrame'>\n",
      "RangeIndex: 112650 entries, 0 to 112649\n",
      "Data columns (total 7 columns):\n",
      " #   Column               Non-Null Count   Dtype  \n",
      "---  ------               --------------   -----  \n",
      " 0   order_id             112650 non-null  object \n",
      " 1   order_item_id        112650 non-null  int64  \n",
      " 2   product_id           112650 non-null  object \n",
      " 3   seller_id            112650 non-null  object \n",
      " 4   shipping_limit_date  112650 non-null  object \n",
      " 5   price                112650 non-null  float64\n",
      " 6   freight_value        112650 non-null  float64\n",
      "dtypes: float64(2), int64(1), object(4)\n",
      "memory usage: 6.0+ MB\n",
      "None\n"
     ]
    },
    {
     "data": {
      "text/html": [
       "<div>\n",
       "<style scoped>\n",
       "    .dataframe tbody tr th:only-of-type {\n",
       "        vertical-align: middle;\n",
       "    }\n",
       "\n",
       "    .dataframe tbody tr th {\n",
       "        vertical-align: top;\n",
       "    }\n",
       "\n",
       "    .dataframe thead th {\n",
       "        text-align: right;\n",
       "    }\n",
       "</style>\n",
       "<table border=\"1\" class=\"dataframe\">\n",
       "  <thead>\n",
       "    <tr style=\"text-align: right;\">\n",
       "      <th></th>\n",
       "      <th>order_id</th>\n",
       "      <th>order_item_id</th>\n",
       "      <th>product_id</th>\n",
       "      <th>seller_id</th>\n",
       "      <th>shipping_limit_date</th>\n",
       "      <th>price</th>\n",
       "      <th>freight_value</th>\n",
       "    </tr>\n",
       "  </thead>\n",
       "  <tbody>\n",
       "    <tr>\n",
       "      <th>0</th>\n",
       "      <td>00010242fe8c5a6d1ba2dd792cb16214</td>\n",
       "      <td>1</td>\n",
       "      <td>4244733e06e7ecb4970a6e2683c13e61</td>\n",
       "      <td>48436dade18ac8b2bce089ec2a041202</td>\n",
       "      <td>2017-09-19 09:45:35</td>\n",
       "      <td>58.9</td>\n",
       "      <td>13.29</td>\n",
       "    </tr>\n",
       "    <tr>\n",
       "      <th>1</th>\n",
       "      <td>00018f77f2f0320c557190d7a144bdd3</td>\n",
       "      <td>1</td>\n",
       "      <td>e5f2d52b802189ee658865ca93d83a8f</td>\n",
       "      <td>dd7ddc04e1b6c2c614352b383efe2d36</td>\n",
       "      <td>2017-05-03 11:05:13</td>\n",
       "      <td>239.9</td>\n",
       "      <td>19.93</td>\n",
       "    </tr>\n",
       "    <tr>\n",
       "      <th>2</th>\n",
       "      <td>000229ec398224ef6ca0657da4fc703e</td>\n",
       "      <td>1</td>\n",
       "      <td>c777355d18b72b67abbeef9df44fd0fd</td>\n",
       "      <td>5b51032eddd242adc84c38acab88f23d</td>\n",
       "      <td>2018-01-18 14:48:30</td>\n",
       "      <td>199.0</td>\n",
       "      <td>17.87</td>\n",
       "    </tr>\n",
       "  </tbody>\n",
       "</table>\n",
       "</div>"
      ],
      "text/plain": [
       "                           order_id  order_item_id  \\\n",
       "0  00010242fe8c5a6d1ba2dd792cb16214              1   \n",
       "1  00018f77f2f0320c557190d7a144bdd3              1   \n",
       "2  000229ec398224ef6ca0657da4fc703e              1   \n",
       "\n",
       "                         product_id                         seller_id  \\\n",
       "0  4244733e06e7ecb4970a6e2683c13e61  48436dade18ac8b2bce089ec2a041202   \n",
       "1  e5f2d52b802189ee658865ca93d83a8f  dd7ddc04e1b6c2c614352b383efe2d36   \n",
       "2  c777355d18b72b67abbeef9df44fd0fd  5b51032eddd242adc84c38acab88f23d   \n",
       "\n",
       "   shipping_limit_date  price  freight_value  \n",
       "0  2017-09-19 09:45:35   58.9          13.29  \n",
       "1  2017-05-03 11:05:13  239.9          19.93  \n",
       "2  2018-01-18 14:48:30  199.0          17.87  "
      ]
     },
     "execution_count": 7,
     "metadata": {},
     "output_type": "execute_result"
    }
   ],
   "source": [
    "print(items.info())\n",
    "items.head(3)"
   ]
  },
  {
   "cell_type": "code",
   "execution_count": 9,
   "metadata": {},
   "outputs": [
    {
     "data": {
      "text/html": [
       "<div>\n",
       "<style scoped>\n",
       "    .dataframe tbody tr th:only-of-type {\n",
       "        vertical-align: middle;\n",
       "    }\n",
       "\n",
       "    .dataframe tbody tr th {\n",
       "        vertical-align: top;\n",
       "    }\n",
       "\n",
       "    .dataframe thead th {\n",
       "        text-align: right;\n",
       "    }\n",
       "</style>\n",
       "<table border=\"1\" class=\"dataframe\">\n",
       "  <thead>\n",
       "    <tr style=\"text-align: right;\">\n",
       "      <th></th>\n",
       "      <th>price</th>\n",
       "      <th>freight_value</th>\n",
       "    </tr>\n",
       "  </thead>\n",
       "  <tbody>\n",
       "    <tr>\n",
       "      <th>count</th>\n",
       "      <td>112650.000000</td>\n",
       "      <td>112650.000000</td>\n",
       "    </tr>\n",
       "    <tr>\n",
       "      <th>mean</th>\n",
       "      <td>120.653739</td>\n",
       "      <td>19.990320</td>\n",
       "    </tr>\n",
       "    <tr>\n",
       "      <th>std</th>\n",
       "      <td>183.633928</td>\n",
       "      <td>15.806405</td>\n",
       "    </tr>\n",
       "    <tr>\n",
       "      <th>min</th>\n",
       "      <td>0.850000</td>\n",
       "      <td>0.000000</td>\n",
       "    </tr>\n",
       "    <tr>\n",
       "      <th>25%</th>\n",
       "      <td>39.900000</td>\n",
       "      <td>13.080000</td>\n",
       "    </tr>\n",
       "    <tr>\n",
       "      <th>50%</th>\n",
       "      <td>74.990000</td>\n",
       "      <td>16.260000</td>\n",
       "    </tr>\n",
       "    <tr>\n",
       "      <th>75%</th>\n",
       "      <td>134.900000</td>\n",
       "      <td>21.150000</td>\n",
       "    </tr>\n",
       "    <tr>\n",
       "      <th>max</th>\n",
       "      <td>6735.000000</td>\n",
       "      <td>409.680000</td>\n",
       "    </tr>\n",
       "  </tbody>\n",
       "</table>\n",
       "</div>"
      ],
      "text/plain": [
       "               price  freight_value\n",
       "count  112650.000000  112650.000000\n",
       "mean      120.653739      19.990320\n",
       "std       183.633928      15.806405\n",
       "min         0.850000       0.000000\n",
       "25%        39.900000      13.080000\n",
       "50%        74.990000      16.260000\n",
       "75%       134.900000      21.150000\n",
       "max      6735.000000     409.680000"
      ]
     },
     "execution_count": 9,
     "metadata": {},
     "output_type": "execute_result"
    }
   ],
   "source": [
    "# Посмотрим на описательную статистику количественных показателей\n",
    "items[['price', 'freight_value']].describe()"
   ]
  },
  {
   "cell_type": "code",
   "execution_count": 10,
   "metadata": {},
   "outputs": [
    {
     "data": {
      "text/plain": [
       "delivered      96478\n",
       "shipped         1107\n",
       "canceled         625\n",
       "unavailable      609\n",
       "invoiced         314\n",
       "processing       301\n",
       "created            5\n",
       "approved           2\n",
       "Name: order_status, dtype: int64"
      ]
     },
     "execution_count": 10,
     "metadata": {},
     "output_type": "execute_result"
    }
   ],
   "source": [
    "# Посмотрим на распределение статусов заказов\n",
    "orders['order_status'].value_counts()"
   ]
  },
  {
   "cell_type": "code",
   "execution_count": 5,
   "metadata": {},
   "outputs": [
    {
     "name": "stdout",
     "output_type": "stream",
     "text": [
      "Orders from 2016-09-15 12:16:38 to 2018-09-03 17:40:06\n"
     ]
    }
   ],
   "source": [
    "# В каком диапазоне дат сделаны заказы?\n",
    "dates_range = orders.order_approved_at.dropna().agg(['min', 'max'])\n",
    "print('Orders from {} to {}'.format(*dates_range))"
   ]
  },
  {
   "cell_type": "markdown",
   "metadata": {},
   "source": [
    "Таким образом, у нас данные примерно за 2 года"
   ]
  },
  {
   "cell_type": "code",
   "execution_count": 6,
   "metadata": {},
   "outputs": [
    {
     "data": {
      "text/html": [
       "<div>\n",
       "<style scoped>\n",
       "    .dataframe tbody tr th:only-of-type {\n",
       "        vertical-align: middle;\n",
       "    }\n",
       "\n",
       "    .dataframe tbody tr th {\n",
       "        vertical-align: top;\n",
       "    }\n",
       "\n",
       "    .dataframe thead th {\n",
       "        text-align: right;\n",
       "    }\n",
       "</style>\n",
       "<table border=\"1\" class=\"dataframe\">\n",
       "  <thead>\n",
       "    <tr style=\"text-align: right;\">\n",
       "      <th>variable</th>\n",
       "      <th>order_approved_at</th>\n",
       "      <th>order_delivered_carrier_date</th>\n",
       "      <th>order_delivered_customer_date</th>\n",
       "      <th>order_purchase_timestamp</th>\n",
       "    </tr>\n",
       "    <tr>\n",
       "      <th>months</th>\n",
       "      <th></th>\n",
       "      <th></th>\n",
       "      <th></th>\n",
       "      <th></th>\n",
       "    </tr>\n",
       "  </thead>\n",
       "  <tbody>\n",
       "    <tr>\n",
       "      <th>2016-09</th>\n",
       "      <td>1.0</td>\n",
       "      <td>NaN</td>\n",
       "      <td>NaN</td>\n",
       "      <td>4.0</td>\n",
       "    </tr>\n",
       "    <tr>\n",
       "      <th>2016-10</th>\n",
       "      <td>320.0</td>\n",
       "      <td>247.0</td>\n",
       "      <td>208.0</td>\n",
       "      <td>324.0</td>\n",
       "    </tr>\n",
       "    <tr>\n",
       "      <th>2016-11</th>\n",
       "      <td>NaN</td>\n",
       "      <td>32.0</td>\n",
       "      <td>60.0</td>\n",
       "      <td>NaN</td>\n",
       "    </tr>\n",
       "    <tr>\n",
       "      <th>2016-12</th>\n",
       "      <td>1.0</td>\n",
       "      <td>2.0</td>\n",
       "      <td>4.0</td>\n",
       "      <td>1.0</td>\n",
       "    </tr>\n",
       "    <tr>\n",
       "      <th>2017-01</th>\n",
       "      <td>760.0</td>\n",
       "      <td>612.0</td>\n",
       "      <td>283.0</td>\n",
       "      <td>800.0</td>\n",
       "    </tr>\n",
       "    <tr>\n",
       "      <th>2017-02</th>\n",
       "      <td>1765.0</td>\n",
       "      <td>1517.0</td>\n",
       "      <td>1351.0</td>\n",
       "      <td>1780.0</td>\n",
       "    </tr>\n",
       "    <tr>\n",
       "      <th>2017-03</th>\n",
       "      <td>2689.0</td>\n",
       "      <td>2717.0</td>\n",
       "      <td>2382.0</td>\n",
       "      <td>2682.0</td>\n",
       "    </tr>\n",
       "    <tr>\n",
       "      <th>2017-04</th>\n",
       "      <td>2374.0</td>\n",
       "      <td>2141.0</td>\n",
       "      <td>1849.0</td>\n",
       "      <td>2404.0</td>\n",
       "    </tr>\n",
       "    <tr>\n",
       "      <th>2017-05</th>\n",
       "      <td>3693.0</td>\n",
       "      <td>3709.0</td>\n",
       "      <td>3751.0</td>\n",
       "      <td>3700.0</td>\n",
       "    </tr>\n",
       "    <tr>\n",
       "      <th>2017-06</th>\n",
       "      <td>3252.0</td>\n",
       "      <td>3263.0</td>\n",
       "      <td>3223.0</td>\n",
       "      <td>3245.0</td>\n",
       "    </tr>\n",
       "    <tr>\n",
       "      <th>2017-07</th>\n",
       "      <td>3974.0</td>\n",
       "      <td>3710.0</td>\n",
       "      <td>3455.0</td>\n",
       "      <td>4026.0</td>\n",
       "    </tr>\n",
       "    <tr>\n",
       "      <th>2017-08</th>\n",
       "      <td>4348.0</td>\n",
       "      <td>4328.0</td>\n",
       "      <td>4302.0</td>\n",
       "      <td>4331.0</td>\n",
       "    </tr>\n",
       "    <tr>\n",
       "      <th>2017-09</th>\n",
       "      <td>4301.0</td>\n",
       "      <td>4131.0</td>\n",
       "      <td>3965.0</td>\n",
       "      <td>4285.0</td>\n",
       "    </tr>\n",
       "    <tr>\n",
       "      <th>2017-10</th>\n",
       "      <td>4590.0</td>\n",
       "      <td>4482.0</td>\n",
       "      <td>4494.0</td>\n",
       "      <td>4631.0</td>\n",
       "    </tr>\n",
       "    <tr>\n",
       "      <th>2017-11</th>\n",
       "      <td>7395.0</td>\n",
       "      <td>6637.0</td>\n",
       "      <td>4670.0</td>\n",
       "      <td>7544.0</td>\n",
       "    </tr>\n",
       "    <tr>\n",
       "      <th>2017-12</th>\n",
       "      <td>5832.0</td>\n",
       "      <td>6081.0</td>\n",
       "      <td>7205.0</td>\n",
       "      <td>5673.0</td>\n",
       "    </tr>\n",
       "    <tr>\n",
       "      <th>2018-01</th>\n",
       "      <td>7187.0</td>\n",
       "      <td>7059.0</td>\n",
       "      <td>6597.0</td>\n",
       "      <td>7269.0</td>\n",
       "    </tr>\n",
       "    <tr>\n",
       "      <th>2018-02</th>\n",
       "      <td>6706.0</td>\n",
       "      <td>6605.0</td>\n",
       "      <td>5850.0</td>\n",
       "      <td>6728.0</td>\n",
       "    </tr>\n",
       "    <tr>\n",
       "      <th>2018-03</th>\n",
       "      <td>7288.0</td>\n",
       "      <td>7178.0</td>\n",
       "      <td>6825.0</td>\n",
       "      <td>7211.0</td>\n",
       "    </tr>\n",
       "    <tr>\n",
       "      <th>2018-04</th>\n",
       "      <td>6778.0</td>\n",
       "      <td>7002.0</td>\n",
       "      <td>7850.0</td>\n",
       "      <td>6939.0</td>\n",
       "    </tr>\n",
       "    <tr>\n",
       "      <th>2018-05</th>\n",
       "      <td>7066.0</td>\n",
       "      <td>6981.0</td>\n",
       "      <td>7111.0</td>\n",
       "      <td>6873.0</td>\n",
       "    </tr>\n",
       "    <tr>\n",
       "      <th>2018-06</th>\n",
       "      <td>6164.0</td>\n",
       "      <td>6108.0</td>\n",
       "      <td>6829.0</td>\n",
       "      <td>6167.0</td>\n",
       "    </tr>\n",
       "    <tr>\n",
       "      <th>2018-07</th>\n",
       "      <td>6176.0</td>\n",
       "      <td>6055.0</td>\n",
       "      <td>5839.0</td>\n",
       "      <td>6292.0</td>\n",
       "    </tr>\n",
       "    <tr>\n",
       "      <th>2018-08</th>\n",
       "      <td>6620.0</td>\n",
       "      <td>7058.0</td>\n",
       "      <td>8314.0</td>\n",
       "      <td>6512.0</td>\n",
       "    </tr>\n",
       "    <tr>\n",
       "      <th>2018-09</th>\n",
       "      <td>1.0</td>\n",
       "      <td>3.0</td>\n",
       "      <td>56.0</td>\n",
       "      <td>16.0</td>\n",
       "    </tr>\n",
       "    <tr>\n",
       "      <th>2018-10</th>\n",
       "      <td>NaN</td>\n",
       "      <td>NaN</td>\n",
       "      <td>3.0</td>\n",
       "      <td>4.0</td>\n",
       "    </tr>\n",
       "  </tbody>\n",
       "</table>\n",
       "</div>"
      ],
      "text/plain": [
       "variable  order_approved_at  order_delivered_carrier_date  \\\n",
       "months                                                      \n",
       "2016-09                 1.0                           NaN   \n",
       "2016-10               320.0                         247.0   \n",
       "2016-11                 NaN                          32.0   \n",
       "2016-12                 1.0                           2.0   \n",
       "2017-01               760.0                         612.0   \n",
       "2017-02              1765.0                        1517.0   \n",
       "2017-03              2689.0                        2717.0   \n",
       "2017-04              2374.0                        2141.0   \n",
       "2017-05              3693.0                        3709.0   \n",
       "2017-06              3252.0                        3263.0   \n",
       "2017-07              3974.0                        3710.0   \n",
       "2017-08              4348.0                        4328.0   \n",
       "2017-09              4301.0                        4131.0   \n",
       "2017-10              4590.0                        4482.0   \n",
       "2017-11              7395.0                        6637.0   \n",
       "2017-12              5832.0                        6081.0   \n",
       "2018-01              7187.0                        7059.0   \n",
       "2018-02              6706.0                        6605.0   \n",
       "2018-03              7288.0                        7178.0   \n",
       "2018-04              6778.0                        7002.0   \n",
       "2018-05              7066.0                        6981.0   \n",
       "2018-06              6164.0                        6108.0   \n",
       "2018-07              6176.0                        6055.0   \n",
       "2018-08              6620.0                        7058.0   \n",
       "2018-09                 1.0                           3.0   \n",
       "2018-10                 NaN                           NaN   \n",
       "\n",
       "variable  order_delivered_customer_date  order_purchase_timestamp  \n",
       "months                                                             \n",
       "2016-09                             NaN                       4.0  \n",
       "2016-10                           208.0                     324.0  \n",
       "2016-11                            60.0                       NaN  \n",
       "2016-12                             4.0                       1.0  \n",
       "2017-01                           283.0                     800.0  \n",
       "2017-02                          1351.0                    1780.0  \n",
       "2017-03                          2382.0                    2682.0  \n",
       "2017-04                          1849.0                    2404.0  \n",
       "2017-05                          3751.0                    3700.0  \n",
       "2017-06                          3223.0                    3245.0  \n",
       "2017-07                          3455.0                    4026.0  \n",
       "2017-08                          4302.0                    4331.0  \n",
       "2017-09                          3965.0                    4285.0  \n",
       "2017-10                          4494.0                    4631.0  \n",
       "2017-11                          4670.0                    7544.0  \n",
       "2017-12                          7205.0                    5673.0  \n",
       "2018-01                          6597.0                    7269.0  \n",
       "2018-02                          5850.0                    6728.0  \n",
       "2018-03                          6825.0                    7211.0  \n",
       "2018-04                          7850.0                    6939.0  \n",
       "2018-05                          7111.0                    6873.0  \n",
       "2018-06                          6829.0                    6167.0  \n",
       "2018-07                          5839.0                    6292.0  \n",
       "2018-08                          8314.0                    6512.0  \n",
       "2018-09                            56.0                      16.0  \n",
       "2018-10                             3.0                       4.0  "
      ]
     },
     "execution_count": 6,
     "metadata": {},
     "output_type": "execute_result"
    }
   ],
   "source": [
    "# Во все ли месяцы была активность?\n",
    "dates_cols = ['order_purchase_timestamp', 'order_approved_at', \n",
    "              'order_delivered_carrier_date', 'order_delivered_customer_date']\n",
    "\n",
    "dates_df = orders[['order_id', *dates_cols]].melt(id_vars=['order_id'], value_vars=dates_cols) \n",
    "\n",
    "dates_df \\\n",
    "    .assign(months = dates_df['value'].dt.strftime('%Y-%m')) \\\n",
    "    .groupby(['variable', 'months'], as_index=False) \\\n",
    "    .order_id.nunique() \\\n",
    "    .pivot(index='months', columns='variable', values='order_id')"
   ]
  },
  {
   "cell_type": "markdown",
   "metadata": {},
   "source": [
    "Получается, что в 9, 11 и 12 месяцах 2016 года активности по заказам были существенно меньше, чем в другие месяцы. \n",
    "Так же в последние месяцы 2018 года, но это можно объяснить тем, что данные еще не были собраны на момент выгрузки базы."
   ]
  },
  {
   "cell_type": "markdown",
   "metadata": {},
   "source": [
    "## 1. Сколько пользователей, совершивших покупку только один раз? "
   ]
  },
  {
   "cell_type": "markdown",
   "metadata": {},
   "source": [
    "#### 1) Проверим, есть ли несоответствия в данных по заказам"
   ]
  },
  {
   "cell_type": "code",
   "execution_count": 37,
   "metadata": {},
   "outputs": [
    {
     "data": {
      "text/plain": [
       "8"
      ]
     },
     "execution_count": 37,
     "metadata": {},
     "output_type": "execute_result"
    }
   ],
   "source": [
    "# Cколько заказов со статусом delivered не имеют даты доставки?\n",
    "orders[(orders['order_status'] == 'delivered') & \n",
    "       (orders['order_delivered_customer_date'].isna())]['order_id'].nunique()"
   ]
  },
  {
   "cell_type": "code",
   "execution_count": 28,
   "metadata": {},
   "outputs": [
    {
     "data": {
      "text/plain": [
       "14"
      ]
     },
     "execution_count": 28,
     "metadata": {},
     "output_type": "execute_result"
    }
   ],
   "source": [
    "# Cколько заказов со статусом delivered неоплачены (=без даты оплаты)? \n",
    "orders[(orders['order_status'] == 'delivered') & \n",
    "       (orders['order_approved_at'].isna())]['order_id'].nunique()"
   ]
  },
  {
   "cell_type": "code",
   "execution_count": 20,
   "metadata": {},
   "outputs": [
    {
     "data": {
      "text/html": [
       "<div>\n",
       "<style scoped>\n",
       "    .dataframe tbody tr th:only-of-type {\n",
       "        vertical-align: middle;\n",
       "    }\n",
       "\n",
       "    .dataframe tbody tr th {\n",
       "        vertical-align: top;\n",
       "    }\n",
       "\n",
       "    .dataframe thead th {\n",
       "        text-align: right;\n",
       "    }\n",
       "</style>\n",
       "<table border=\"1\" class=\"dataframe\">\n",
       "  <thead>\n",
       "    <tr style=\"text-align: right;\">\n",
       "      <th></th>\n",
       "      <th>order_status</th>\n",
       "      <th>count_not_na</th>\n",
       "    </tr>\n",
       "  </thead>\n",
       "  <tbody>\n",
       "    <tr>\n",
       "      <th>3</th>\n",
       "      <td>delivered</td>\n",
       "      <td>96464</td>\n",
       "    </tr>\n",
       "    <tr>\n",
       "      <th>6</th>\n",
       "      <td>shipped</td>\n",
       "      <td>1107</td>\n",
       "    </tr>\n",
       "    <tr>\n",
       "      <th>7</th>\n",
       "      <td>unavailable</td>\n",
       "      <td>609</td>\n",
       "    </tr>\n",
       "    <tr>\n",
       "      <th>1</th>\n",
       "      <td>canceled</td>\n",
       "      <td>484</td>\n",
       "    </tr>\n",
       "    <tr>\n",
       "      <th>4</th>\n",
       "      <td>invoiced</td>\n",
       "      <td>314</td>\n",
       "    </tr>\n",
       "    <tr>\n",
       "      <th>5</th>\n",
       "      <td>processing</td>\n",
       "      <td>301</td>\n",
       "    </tr>\n",
       "    <tr>\n",
       "      <th>0</th>\n",
       "      <td>approved</td>\n",
       "      <td>2</td>\n",
       "    </tr>\n",
       "    <tr>\n",
       "      <th>2</th>\n",
       "      <td>created</td>\n",
       "      <td>0</td>\n",
       "    </tr>\n",
       "  </tbody>\n",
       "</table>\n",
       "</div>"
      ],
      "text/plain": [
       "  order_status  count_not_na\n",
       "3    delivered         96464\n",
       "6      shipped          1107\n",
       "7  unavailable           609\n",
       "1     canceled           484\n",
       "4     invoiced           314\n",
       "5   processing           301\n",
       "0     approved             2\n",
       "2      created             0"
      ]
     },
     "execution_count": 20,
     "metadata": {},
     "output_type": "execute_result"
    }
   ],
   "source": [
    "# Какие статусы у заказов с непустой датой оплаты?\n",
    "orders \\\n",
    "    .groupby('order_status', as_index=False) \\\n",
    "    .agg(count_not_na = ('order_approved_at', 'count')) \\\n",
    "    .sort_values('count_not_na', ascending=False)"
   ]
  },
  {
   "cell_type": "markdown",
   "metadata": {},
   "source": [
    "#### 2) Дадим определение покупки\n",
    "Покупкой будем считать оплаченный заказ (`order_approved_at` не пропущена). \n",
    "\n",
    "При этом:\n",
    "- Отмененные заказы попадают под определение покупки. \n",
    "- Есть неоплаченные заказы со статусом \"доставлен\" (14 заказов), они не попадают под определение покупки. По данным нельзя понять причину отсутствия даты оплаты - может так отображается оплата наличными, а может это ошибка."
   ]
  },
  {
   "cell_type": "markdown",
   "metadata": {},
   "source": [
    "#### 3) Посчитаем пользователей с одной покупкой"
   ]
  },
  {
   "cell_type": "code",
   "execution_count": 21,
   "metadata": {},
   "outputs": [],
   "source": [
    "# Объединим данные по пользователям и покупкам, \n",
    "# чтобы было соответствие уникального id пользователя и информации о заказе\n",
    "merged_df1 = customers.merge(orders, on = 'customer_id') "
   ]
  },
  {
   "cell_type": "code",
   "execution_count": 25,
   "metadata": {},
   "outputs": [],
   "source": [
    "# Посчитаем число покупок для каждого пользователя\n",
    "n_purchases = \\\n",
    "    merged_df1 \\\n",
    "    .query(\"~order_approved_at.isna()\") \\\n",
    "    .groupby('customer_unique_id') \\\n",
    "    ['order_id'].nunique() "
   ]
  },
  {
   "cell_type": "code",
   "execution_count": 14,
   "metadata": {},
   "outputs": [
    {
     "name": "stdout",
     "output_type": "stream",
     "text": [
      "Число покупателей с 1 покупкой: 93049\n",
      "Процент покупателей с 1 покупкой: 96.93%\n"
     ]
    }
   ],
   "source": [
    "print(f'Число покупателей с 1 покупкой: {n_purchases.value_counts()[1]}')\n",
    "print(f'Процент покупателей с 1 покупкой: {n_purchases.value_counts(normalize=True)[1]*100:.2f}%')"
   ]
  },
  {
   "cell_type": "markdown",
   "metadata": {},
   "source": [
    "#### 4) Дополнительно посмотрим на все распределение числа покупок"
   ]
  },
  {
   "cell_type": "code",
   "execution_count": 26,
   "metadata": {},
   "outputs": [
    {
     "name": "stdout",
     "output_type": "stream",
     "text": [
      "\n",
      "Проценты покупателей с разным числом покупок:\n",
      "1     96.929%\n",
      "2      2.821%\n",
      "3      0.199%\n",
      "4      0.031%\n",
      "5      0.008%\n",
      "6      0.006%\n",
      "7      0.003%\n",
      "17     0.001%\n",
      "9      0.001%\n",
      "Name: order_id, dtype: object\n"
     ]
    }
   ],
   "source": [
    "print(f'\\nПроценты покупателей с разным числом покупок:')\n",
    "print(round(n_purchases.value_counts(normalize=True)*100, 3).astype(str) + '%')"
   ]
  },
  {
   "cell_type": "code",
   "execution_count": 27,
   "metadata": {},
   "outputs": [
    {
     "data": {
      "image/png": "[encoded data removed]",
      "text/plain": [
       "<Figure size 360x360 with 1 Axes>"
      ]
     },
     "metadata": {
      "needs_background": "light"
     },
     "output_type": "display_data"
    }
   ],
   "source": [
    "ax = sns.displot(n_purchases)\n",
    "ax.set(xlabel='Число покупок', \n",
    "       ylabel='Число покупателей');"
   ]
  },
  {
   "cell_type": "markdown",
   "metadata": {},
   "source": [
    "## 2. Сколько заказов в месяц в среднем не доставляется по разным причинам (вывести детализацию по причинам)? "
   ]
  },
  {
   "cell_type": "markdown",
   "metadata": {},
   "source": [
    "#### 1) Посмотрим как соотносится наличие или отсутствие даты доставки со статусом\n",
    "О статусе доставки из данных можно судить по дате доставки (`order_delivered_customer_date`) и непосредственно по статусу (`order_status`)."
   ]
  },
  {
   "cell_type": "code",
   "execution_count": 4,
   "metadata": {},
   "outputs": [
    {
     "data": {
      "text/plain": [
       "delivered    96470\n",
       "canceled         6\n",
       "Name: order_status, dtype: int64"
      ]
     },
     "execution_count": 4,
     "metadata": {},
     "output_type": "execute_result"
    }
   ],
   "source": [
    "# Какие статусы у заказов с непустой датой доставки?\n",
    "orders[~orders['order_delivered_customer_date'].isna()]['order_status'].value_counts()"
   ]
  },
  {
   "cell_type": "markdown",
   "metadata": {},
   "source": [
    "Все логично: если есть дата доставки, то заказ либо доставлен, либо отменен (предположительно уже после доставки)."
   ]
  },
  {
   "cell_type": "code",
   "execution_count": 5,
   "metadata": {},
   "outputs": [
    {
     "data": {
      "text/plain": [
       "shipped        1107\n",
       "canceled        619\n",
       "unavailable     609\n",
       "invoiced        314\n",
       "processing      301\n",
       "delivered         8\n",
       "created           5\n",
       "approved          2\n",
       "Name: order_status, dtype: int64"
      ]
     },
     "execution_count": 5,
     "metadata": {},
     "output_type": "execute_result"
    }
   ],
   "source": [
    "# Какие статусы у заказов с отсутствующей датой доставки?\n",
    "orders[orders['order_delivered_customer_date'].isna()]['order_status'].value_counts()"
   ]
  },
  {
   "cell_type": "markdown",
   "metadata": {},
   "source": [
    "Несоответствие в данных: 8 заказов имеют статус `delivered`, но не имеют даты доставки. Будем считать заказ доставленным, если выполняется хотя бы одно из этих условий (есть дата доставки или статус `delivered`). \n",
    "\n",
    "Также есть статусы, всегда предшествующие доставке (`shipped`, `invoiced`, `processing`, `created`, `approved`). Возможно они не окончательны и в будущем еще изменятся на один из конечных статусов (предположительно это `canceled`, `unavailable`, `delivered`). Далее исследуем это подробнее."
   ]
  },
  {
   "cell_type": "code",
   "execution_count": 21,
   "metadata": {},
   "outputs": [
    {
     "data": {
      "text/plain": [
       "count                             1729\n",
       "mean     2017-11-11 08:24:28.522845696\n",
       "min                2016-09-04 21:15:19\n",
       "25%                2017-06-26 00:22:23\n",
       "50%                2017-11-28 20:48:08\n",
       "75%                2018-03-23 18:46:14\n",
       "max                2018-09-03 09:06:57\n",
       "Name: order_purchase_timestamp, dtype: object"
      ]
     },
     "execution_count": 21,
     "metadata": {},
     "output_type": "execute_result"
    }
   ],
   "source": [
    "# Посмотрим на даты заказов с \"неокончательными\" статусами, \n",
    "# чтобы сопоставить с датой самого последнего заказа в данных (2018-10-17)\n",
    "orders[orders['order_status'].isin(['shipped', 'invoiced', 'processing', 'created', 'approved'])\n",
    "      ].order_purchase_timestamp.describe(datetime_is_numeric=True)"
   ]
  },
  {
   "cell_type": "code",
   "execution_count": 19,
   "metadata": {},
   "outputs": [
    {
     "data": {
      "text/html": [
       "<div>\n",
       "<style scoped>\n",
       "    .dataframe tbody tr th:only-of-type {\n",
       "        vertical-align: middle;\n",
       "    }\n",
       "\n",
       "    .dataframe tbody tr th {\n",
       "        vertical-align: top;\n",
       "    }\n",
       "\n",
       "    .dataframe thead th {\n",
       "        text-align: right;\n",
       "    }\n",
       "</style>\n",
       "<table border=\"1\" class=\"dataframe\">\n",
       "  <thead>\n",
       "    <tr style=\"text-align: right;\">\n",
       "      <th></th>\n",
       "      <th>order_id</th>\n",
       "      <th>customer_id</th>\n",
       "      <th>order_status</th>\n",
       "      <th>order_purchase_timestamp</th>\n",
       "      <th>order_approved_at</th>\n",
       "      <th>order_delivered_carrier_date</th>\n",
       "      <th>order_delivered_customer_date</th>\n",
       "      <th>order_estimated_delivery_date</th>\n",
       "    </tr>\n",
       "  </thead>\n",
       "  <tbody>\n",
       "    <tr>\n",
       "      <th>4541</th>\n",
       "      <td>2e7a8482f6fb09756ca50c10d7bfc047</td>\n",
       "      <td>08c5351a6aca1c1589a38f244edeee9d</td>\n",
       "      <td>shipped</td>\n",
       "      <td>2016-09-04 21:15:19</td>\n",
       "      <td>2016-10-07 13:18:03</td>\n",
       "      <td>2016-10-18 13:14:51</td>\n",
       "      <td>NaT</td>\n",
       "      <td>2016-10-20</td>\n",
       "    </tr>\n",
       "    <tr>\n",
       "      <th>78824</th>\n",
       "      <td>dd359d3c294458c6d642b2eea9212bf5</td>\n",
       "      <td>5c58d1ea5a893380ecdd96dd6dfd5ec5</td>\n",
       "      <td>invoiced</td>\n",
       "      <td>2016-10-04 13:02:10</td>\n",
       "      <td>2016-10-05 03:08:27</td>\n",
       "      <td>NaT</td>\n",
       "      <td>NaT</td>\n",
       "      <td>2016-11-24</td>\n",
       "    </tr>\n",
       "    <tr>\n",
       "      <th>24222</th>\n",
       "      <td>711b9be9c346d9ecdb9d38a5e1e7e39b</td>\n",
       "      <td>81e4aed5ab4253757305267b80712689</td>\n",
       "      <td>invoiced</td>\n",
       "      <td>2016-10-04 13:38:37</td>\n",
       "      <td>2016-10-04 14:08:38</td>\n",
       "      <td>NaT</td>\n",
       "      <td>NaT</td>\n",
       "      <td>2016-11-24</td>\n",
       "    </tr>\n",
       "    <tr>\n",
       "      <th>18535</th>\n",
       "      <td>5cb8558cbb7c0c2f00f43468579d3e3c</td>\n",
       "      <td>2ff5a6455514da421bd25d6e4ceb1d12</td>\n",
       "      <td>shipped</td>\n",
       "      <td>2016-10-04 15:02:37</td>\n",
       "      <td>2016-10-05 03:10:59</td>\n",
       "      <td>2016-10-15 10:14:10</td>\n",
       "      <td>NaT</td>\n",
       "      <td>2016-12-02</td>\n",
       "    </tr>\n",
       "    <tr>\n",
       "      <th>32817</th>\n",
       "      <td>a6475bb7a50387e3c665534e15bd40ac</td>\n",
       "      <td>442d66f0d96f656096dd70f1b0391e40</td>\n",
       "      <td>invoiced</td>\n",
       "      <td>2016-10-04 16:28:25</td>\n",
       "      <td>2016-10-05 02:46:17</td>\n",
       "      <td>NaT</td>\n",
       "      <td>NaT</td>\n",
       "      <td>2016-11-28</td>\n",
       "    </tr>\n",
       "  </tbody>\n",
       "</table>\n",
       "</div>"
      ],
      "text/plain": [
       "                               order_id                       customer_id  \\\n",
       "4541   2e7a8482f6fb09756ca50c10d7bfc047  08c5351a6aca1c1589a38f244edeee9d   \n",
       "78824  dd359d3c294458c6d642b2eea9212bf5  5c58d1ea5a893380ecdd96dd6dfd5ec5   \n",
       "24222  711b9be9c346d9ecdb9d38a5e1e7e39b  81e4aed5ab4253757305267b80712689   \n",
       "18535  5cb8558cbb7c0c2f00f43468579d3e3c  2ff5a6455514da421bd25d6e4ceb1d12   \n",
       "32817  a6475bb7a50387e3c665534e15bd40ac  442d66f0d96f656096dd70f1b0391e40   \n",
       "\n",
       "      order_status order_purchase_timestamp   order_approved_at  \\\n",
       "4541       shipped      2016-09-04 21:15:19 2016-10-07 13:18:03   \n",
       "78824     invoiced      2016-10-04 13:02:10 2016-10-05 03:08:27   \n",
       "24222     invoiced      2016-10-04 13:38:37 2016-10-04 14:08:38   \n",
       "18535      shipped      2016-10-04 15:02:37 2016-10-05 03:10:59   \n",
       "32817     invoiced      2016-10-04 16:28:25 2016-10-05 02:46:17   \n",
       "\n",
       "      order_delivered_carrier_date order_delivered_customer_date  \\\n",
       "4541           2016-10-18 13:14:51                           NaT   \n",
       "78824                          NaT                           NaT   \n",
       "24222                          NaT                           NaT   \n",
       "18535          2016-10-15 10:14:10                           NaT   \n",
       "32817                          NaT                           NaT   \n",
       "\n",
       "      order_estimated_delivery_date  \n",
       "4541                     2016-10-20  \n",
       "78824                    2016-11-24  \n",
       "24222                    2016-11-24  \n",
       "18535                    2016-12-02  \n",
       "32817                    2016-11-28  "
      ]
     },
     "execution_count": 19,
     "metadata": {},
     "output_type": "execute_result"
    }
   ],
   "source": [
    "# Посмотрим на данные заказов с \"неокончательными\" статусами и самыми ранними датами\n",
    "orders[orders['order_status'].isin(['shipped', 'invoiced', 'processing', 'created', 'approved'])\n",
    "      ].sort_values('order_purchase_timestamp').head()"
   ]
  },
  {
   "cell_type": "markdown",
   "metadata": {},
   "source": [
    "Можно сделать вывод, что некоторые заказы остаются в одном из \"неокончательных\" статусов долгое время, поэтому мы не можем никак использовать предположение, что заказы с такими статусами были сделаны близко с дате среза данных и еще будут доставлены. "
   ]
  },
  {
   "cell_type": "markdown",
   "metadata": {},
   "source": [
    "#### 2) Дадим определение недоставленного заказа\n",
    "Недоставленным заказом будем считать заказ с незаполненной датой доставки и любым статусом, кроме `delivered`.   \n",
    "\n",
    "*Замечание: В данных есть 8 наблюдений со статусом `delivered`, но с пустой датой доставки. В текущей логике решения такие случаи рассмотриваются как доставленные заказы, но можно также рассмотреть версию, что в статусе ошибка и эти заказы на самом деле не были доставлены.* "
   ]
  },
  {
   "cell_type": "markdown",
   "metadata": {},
   "source": [
    "#### 3) Посмотрим сколько в среднем недоставленных заказов в месяц и выведем детализацию по причинам\n",
    "\n",
    "Причины недоставленных заказов будем брать из их статусов."
   ]
  },
  {
   "cell_type": "code",
   "execution_count": 28,
   "metadata": {},
   "outputs": [],
   "source": [
    "# Создадим датафрейм с данными по недоставленным заказам\n",
    "not_delivered = orders.query(\"order_delivered_customer_date.isna() & order_status != 'delivered'\") "
   ]
  },
  {
   "cell_type": "code",
   "execution_count": 37,
   "metadata": {},
   "outputs": [
    {
     "name": "stdout",
     "output_type": "stream",
     "text": [
      "unique: 2957, total:  2957\n"
     ]
    }
   ],
   "source": [
    "# Проверим, нет ли повторяющихся заказов\n",
    "print('unique: {}, total: '.format(not_delivered['order_id'].nunique()), not_delivered.shape[0])"
   ]
  },
  {
   "cell_type": "code",
   "execution_count": 87,
   "metadata": {},
   "outputs": [
    {
     "data": {
      "text/plain": [
       "<matplotlib.axes._subplots.AxesSubplot at 0x7f7de6fce048>"
      ]
     },
     "execution_count": 87,
     "metadata": {},
     "output_type": "execute_result"
    },
    {
     "data": {
      "image/png": "[encoded data removed]",
      "text/plain": [
       "<Figure size 432x288 with 1 Axes>"
      ]
     },
     "metadata": {
      "needs_background": "light"
     },
     "output_type": "display_data"
    }
   ],
   "source": [
    "# Сначала посмотрим распределение недоставленных заказов по месяцам, в которые они были созданы \n",
    "not_delivered_summary = \\\n",
    "    not_delivered \\\n",
    "    .assign(months = not_delivered.order_purchase_timestamp.dt.strftime('%Y-%m')) \\\n",
    "    .groupby('months') \\\n",
    "    .agg(n_orders = ('order_id', 'count')) \n",
    "\n",
    "not_delivered_summary.plot(kind='bar')"
   ]
  },
  {
   "cell_type": "markdown",
   "metadata": {},
   "source": [
    "Из графика видно, что в 2016 году последние 2 месяца были без недоставленных заказов, а в сентябре 2016 и в последние 2 месяца 2018 года наблюдается заметно более низкая активность. Из предварительного исследования данных (смотрели число непустых дат за каждый месяц) мы знаем, что это соответствует общей картине в данных.\n",
    "\n",
    "Для общности возьмем все месяцы в расчет среднего (но можно также рассмотреть только активные). "
   ]
  },
  {
   "cell_type": "code",
   "execution_count": 131,
   "metadata": {},
   "outputs": [
    {
     "name": "stdout",
     "output_type": "stream",
     "text": [
      "В среднем недоставленных заказов в месяц: 118.28\n",
      "\n",
      "В среднем недоставленных заказов в месяц по причинам:\n"
     ]
    },
    {
     "data": {
      "text/plain": [
       "order_status\n",
       "shipped        44.28\n",
       "canceled       24.76\n",
       "unavailable    24.36\n",
       "invoiced       12.56\n",
       "processing     12.04\n",
       "created         0.20\n",
       "approved        0.08\n",
       "Name: order_id, dtype: float64"
      ]
     },
     "execution_count": 131,
     "metadata": {},
     "output_type": "execute_result"
    }
   ],
   "source": [
    "min_dt = min(not_delivered.order_purchase_timestamp)\n",
    "max_dt = max(not_delivered.order_purchase_timestamp)\n",
    "\n",
    "n_total_months = (max_dt.year - min_dt.year) * 12 + max_dt.month - min_dt.month\n",
    "\n",
    "print(f'В среднем недоставленных заказов в месяц: {not_delivered.order_id.count()  / n_total_months}\\n')\n",
    "print(f'В среднем недоставленных заказов в месяц по причинам:')\n",
    "not_delivered.groupby('order_status').order_id.count().sort_values(ascending=False) / n_total_months"
   ]
  },
  {
   "cell_type": "code",
   "execution_count": 137,
   "metadata": {},
   "outputs": [
    {
     "data": {
      "text/plain": [
       "0"
      ]
     },
     "execution_count": 137,
     "metadata": {},
     "output_type": "execute_result"
    }
   ],
   "source": [
    "# Посмотрим были ли оплачены заказы со статусами invoiced и processing \n",
    "# (если нет, может это является причиной того, что их не доставили)\n",
    "sum(not_delivered[not_delivered.order_status.isin(['invoiced', 'processing'])]['order_approved_at'].isna())"
   ]
  },
  {
   "cell_type": "markdown",
   "metadata": {},
   "source": [
    "Получили следующее:   \n",
    "\n",
    "1) Больше всего заказов (около 44 заказов/месяц) не доставляется после того, как отгружается со склада. Можно предположить, что есть проблемы с логистикой.\n",
    "\n",
    "2) Примерно по 24 заказа/месяц не доставляется по причинам отмены или недоступности.\n",
    "\n",
    "3) Примерно по 12 заказов/месяц не доставляется после того, как выставлен счет или начался процесс сборки заказа. При этом по ним всем есть дата оплаты. Возможно есть проблема на этапе сборки заказа.\n",
    "\n",
    "4) Меньше 1 заказа/месяц не доставляется после создания или подтверждения. Скорее всего это просто неполные данные и в дальнейшем такие заказы будут доставлены."
   ]
  },
  {
   "cell_type": "markdown",
   "metadata": {},
   "source": [
    "## 3. По каждому товару определить, в какой день недели товар чаще всего покупается. "
   ]
  },
  {
   "cell_type": "code",
   "execution_count": 54,
   "metadata": {},
   "outputs": [],
   "source": [
    "# Объединим данные по заказам и товарным позициям\n",
    "merged_df3 = items.merge(orders, on = 'order_id')"
   ]
  },
  {
   "cell_type": "code",
   "execution_count": 57,
   "metadata": {},
   "outputs": [
    {
     "data": {
      "text/html": [
       "<div>\n",
       "<style scoped>\n",
       "    .dataframe tbody tr th:only-of-type {\n",
       "        vertical-align: middle;\n",
       "    }\n",
       "\n",
       "    .dataframe tbody tr th {\n",
       "        vertical-align: top;\n",
       "    }\n",
       "\n",
       "    .dataframe thead th {\n",
       "        text-align: right;\n",
       "    }\n",
       "</style>\n",
       "<table border=\"1\" class=\"dataframe\">\n",
       "  <thead>\n",
       "    <tr style=\"text-align: right;\">\n",
       "      <th></th>\n",
       "      <th>product_id</th>\n",
       "      <th>pay_weekday</th>\n",
       "      <th>n_orders</th>\n",
       "    </tr>\n",
       "  </thead>\n",
       "  <tbody>\n",
       "    <tr>\n",
       "      <th>36507</th>\n",
       "      <td>99a4788cb24856965c36a24e339b6058</td>\n",
       "      <td>Monday</td>\n",
       "      <td>87</td>\n",
       "    </tr>\n",
       "    <tr>\n",
       "      <th>41039</th>\n",
       "      <td>aca2eb7d00ea1a7b8ebd4e68314663af</td>\n",
       "      <td>Thursday</td>\n",
       "      <td>75</td>\n",
       "    </tr>\n",
       "    <tr>\n",
       "      <th>20123</th>\n",
       "      <td>53b36df67ebb7c41585e8d54d6772e08</td>\n",
       "      <td>Tuesday</td>\n",
       "      <td>70</td>\n",
       "    </tr>\n",
       "    <tr>\n",
       "      <th>50191</th>\n",
       "      <td>d1c427060a0f73f6b889a5c7c61f2ac4</td>\n",
       "      <td>Monday</td>\n",
       "      <td>60</td>\n",
       "    </tr>\n",
       "    <tr>\n",
       "      <th>15897</th>\n",
       "      <td>422879e10f46682990de24d770e7f83d</td>\n",
       "      <td>Thursday</td>\n",
       "      <td>58</td>\n",
       "    </tr>\n",
       "  </tbody>\n",
       "</table>\n",
       "</div>"
      ],
      "text/plain": [
       "                             product_id pay_weekday  n_orders\n",
       "36507  99a4788cb24856965c36a24e339b6058      Monday        87\n",
       "41039  aca2eb7d00ea1a7b8ebd4e68314663af    Thursday        75\n",
       "20123  53b36df67ebb7c41585e8d54d6772e08     Tuesday        70\n",
       "50191  d1c427060a0f73f6b889a5c7c61f2ac4      Monday        60\n",
       "15897  422879e10f46682990de24d770e7f83d    Thursday        58"
      ]
     },
     "execution_count": 57,
     "metadata": {},
     "output_type": "execute_result"
    }
   ],
   "source": [
    "# 1) Создадим переменную с названием дня недели оплаты заказа\n",
    "# 2) Отфильтруем оплаченные заказы (определение покупки как в Задаче 1)\n",
    "# 3) Посчитаем в скольких заказах был товар в каждый день недели\n",
    "# 4) Отсортируем, чтобы оставить только максимальное значение\n",
    "# 5) Сгруппируем по товарам и оставим первое значение в группе, оно максимальное благодаря сортировке \n",
    "\n",
    "popular_weekday = \\\n",
    "    merged_df3 \\\n",
    "    .assign(pay_weekday = merged_df3.order_purchase_timestamp.dt.day_name()) \\\n",
    "    .query(\"~order_approved_at.isna()\") \\\n",
    "    .groupby(['product_id', 'pay_weekday'], as_index=False) \\\n",
    "    .agg(n_orders = ('order_id', 'nunique')) \\\n",
    "    .sort_values(['product_id', 'n_orders'], ascending = [True, False]) \\\n",
    "    .drop_duplicates(subset=['product_id'], keep='first') \\\n",
    "    .sort_values('n_orders', ascending = False)\n",
    "\n",
    "popular_weekday.head()"
   ]
  },
  {
   "cell_type": "code",
   "execution_count": 58,
   "metadata": {},
   "outputs": [
    {
     "data": {
      "image/png": "[encoded data removed]",
      "text/plain": [
       "<Figure size 432x288 with 1 Axes>"
      ]
     },
     "metadata": {
      "needs_background": "light"
     },
     "output_type": "display_data"
    }
   ],
   "source": [
    "# Посмотрим распределение самых популярных дней недели \n",
    "ax = sns.countplot(data = popular_weekday, x = 'pay_weekday', \n",
    "                   order = ['Monday', 'Tuesday', 'Wednesday', 'Thursday', 'Friday', 'Saturday', 'Sunday'],\n",
    "                  color = 'tab:blue')\n",
    "ax.tick_params(axis = 'x', rotation = 45)"
   ]
  },
  {
   "cell_type": "markdown",
   "metadata": {},
   "source": [
    "## 4. Сколько у каждого из пользователей в среднем покупок в неделю (по месяцам)? "
   ]
  },
  {
   "cell_type": "markdown",
   "metadata": {},
   "source": [
    "#### 1) Уточним определение метрики\n",
    "Для каждого пользователя выведем по месяцам, в которых у него были покупки, значение следующего показателя:   \n",
    "*число покупок в данном месяце / число недель в данном месяце (может быть нецелым)*\n",
    "\n",
    "Расчетные значения будем округлять до 2х знаков (число недель, число покупок в неделю, среднее по месяцам).\n",
    "\n",
    "\n",
    "Месяцы, в которых у пользователя не было покупок, не будут выведены, в них значение метрики равно 0."
   ]
  },
  {
   "cell_type": "markdown",
   "metadata": {},
   "source": [
    "#### 2) Определим число недель в каждом месяце"
   ]
  },
  {
   "cell_type": "code",
   "execution_count": 76,
   "metadata": {},
   "outputs": [
    {
     "data": {
      "text/html": [
       "<div>\n",
       "<style scoped>\n",
       "    .dataframe tbody tr th:only-of-type {\n",
       "        vertical-align: middle;\n",
       "    }\n",
       "\n",
       "    .dataframe tbody tr th {\n",
       "        vertical-align: top;\n",
       "    }\n",
       "\n",
       "    .dataframe thead th {\n",
       "        text-align: right;\n",
       "    }\n",
       "</style>\n",
       "<table border=\"1\" class=\"dataframe\">\n",
       "  <thead>\n",
       "    <tr style=\"text-align: right;\">\n",
       "      <th></th>\n",
       "      <th>ym</th>\n",
       "      <th>year</th>\n",
       "      <th>month</th>\n",
       "    </tr>\n",
       "  </thead>\n",
       "  <tbody>\n",
       "    <tr>\n",
       "      <th>0</th>\n",
       "      <td>2016-09</td>\n",
       "      <td>2016</td>\n",
       "      <td>9</td>\n",
       "    </tr>\n",
       "    <tr>\n",
       "      <th>1</th>\n",
       "      <td>2016-10</td>\n",
       "      <td>2016</td>\n",
       "      <td>10</td>\n",
       "    </tr>\n",
       "  </tbody>\n",
       "</table>\n",
       "</div>"
      ],
      "text/plain": [
       "        ym  year  month\n",
       "0  2016-09  2016      9\n",
       "1  2016-10  2016     10"
      ]
     },
     "execution_count": 76,
     "metadata": {},
     "output_type": "execute_result"
    }
   ],
   "source": [
    "# Создадим датафрейм со всеми месяцами в анализируемом периоде \n",
    "dates_range = orders.order_purchase_timestamp.dropna().agg(['min', 'max'])\n",
    "months = pd.DataFrame(\n",
    "    {'ym': pd.date_range(*dates_range.dt.strftime('%Y-%m'), freq='MS').strftime(\"%Y-%m\").to_list()})\n",
    "\n",
    "months['year'] = months.ym.str[:4].apply(int)\n",
    "months['month'] = months.ym.str[5:].apply(int)\n",
    "months.head(2)"
   ]
  },
  {
   "cell_type": "code",
   "execution_count": 77,
   "metadata": {},
   "outputs": [
    {
     "data": {
      "text/html": [
       "<div>\n",
       "<style scoped>\n",
       "    .dataframe tbody tr th:only-of-type {\n",
       "        vertical-align: middle;\n",
       "    }\n",
       "\n",
       "    .dataframe tbody tr th {\n",
       "        vertical-align: top;\n",
       "    }\n",
       "\n",
       "    .dataframe thead th {\n",
       "        text-align: right;\n",
       "    }\n",
       "</style>\n",
       "<table border=\"1\" class=\"dataframe\">\n",
       "  <thead>\n",
       "    <tr style=\"text-align: right;\">\n",
       "      <th></th>\n",
       "      <th>ym</th>\n",
       "      <th>year</th>\n",
       "      <th>month</th>\n",
       "      <th>n_weeks</th>\n",
       "    </tr>\n",
       "  </thead>\n",
       "  <tbody>\n",
       "    <tr>\n",
       "      <th>0</th>\n",
       "      <td>2016-09</td>\n",
       "      <td>2016</td>\n",
       "      <td>9</td>\n",
       "      <td>4.29</td>\n",
       "    </tr>\n",
       "    <tr>\n",
       "      <th>1</th>\n",
       "      <td>2016-10</td>\n",
       "      <td>2016</td>\n",
       "      <td>10</td>\n",
       "      <td>4.43</td>\n",
       "    </tr>\n",
       "  </tbody>\n",
       "</table>\n",
       "</div>"
      ],
      "text/plain": [
       "        ym  year  month  n_weeks\n",
       "0  2016-09  2016      9     4.29\n",
       "1  2016-10  2016     10     4.43"
      ]
     },
     "execution_count": 77,
     "metadata": {},
     "output_type": "execute_result"
    }
   ],
   "source": [
    "# Добавим столбец с числом недель в месяце (метод monthrange из библиотеки calendar)\n",
    "months['n_weeks'] = months.apply(lambda x: round(monthrange(x['year'], x['month'])[1] / 7, 2), axis=1)\n",
    "months.head(2)"
   ]
  },
  {
   "cell_type": "markdown",
   "metadata": {},
   "source": [
    "*Замечание:  \n",
    "В данных некоторые месяцы представлены существенно меньшим числом наблюдений. Мы не знаем причину этого, но отметим, что возможно это несколько искажает метрику и стоит исключить эти неполные месяцы либо скорректировать число недель в них.*"
   ]
  },
  {
   "cell_type": "markdown",
   "metadata": {},
   "source": [
    "#### 3) Посчитаем искомую метрику"
   ]
  },
  {
   "cell_type": "code",
   "execution_count": 78,
   "metadata": {},
   "outputs": [],
   "source": [
    "# Объединим данные пользователей и заказов, отфильтруем оплаченные заказы (определение покупки как в Задаче 1)\n",
    "merged_df4 = customers.merge(orders, on = 'customer_id')\n",
    "merged_df4 = merged_df4.query(\"~order_approved_at.isna()\") \n",
    "\n",
    "# Добавим столбцы с месяцами и числом недель в них\n",
    "merged_df4['purchase_at_ym'] = merged_df4.order_purchase_timestamp.dt.strftime('%Y-%m')"
   ]
  },
  {
   "cell_type": "code",
   "execution_count": 79,
   "metadata": {},
   "outputs": [
    {
     "data": {
      "text/html": [
       "<div>\n",
       "<style scoped>\n",
       "    .dataframe tbody tr th:only-of-type {\n",
       "        vertical-align: middle;\n",
       "    }\n",
       "\n",
       "    .dataframe tbody tr th {\n",
       "        vertical-align: top;\n",
       "    }\n",
       "\n",
       "    .dataframe thead th {\n",
       "        text-align: right;\n",
       "    }\n",
       "</style>\n",
       "<table border=\"1\" class=\"dataframe\">\n",
       "  <thead>\n",
       "    <tr style=\"text-align: right;\">\n",
       "      <th></th>\n",
       "      <th>customer_unique_id</th>\n",
       "      <th>purchase_at_ym</th>\n",
       "      <th>n_orders</th>\n",
       "    </tr>\n",
       "  </thead>\n",
       "  <tbody>\n",
       "    <tr>\n",
       "      <th>0</th>\n",
       "      <td>0000366f3b9a7992bf8c76cfdf3221e2</td>\n",
       "      <td>2018-05</td>\n",
       "      <td>1</td>\n",
       "    </tr>\n",
       "    <tr>\n",
       "      <th>1</th>\n",
       "      <td>0000b849f77a49e4a4ce2b2a4ca5be3f</td>\n",
       "      <td>2018-05</td>\n",
       "      <td>1</td>\n",
       "    </tr>\n",
       "    <tr>\n",
       "      <th>2</th>\n",
       "      <td>0000f46a3911fa3c0805444483337064</td>\n",
       "      <td>2017-03</td>\n",
       "      <td>1</td>\n",
       "    </tr>\n",
       "    <tr>\n",
       "      <th>3</th>\n",
       "      <td>0000f6ccb0745a6a4b88665a16c9f078</td>\n",
       "      <td>2017-10</td>\n",
       "      <td>1</td>\n",
       "    </tr>\n",
       "    <tr>\n",
       "      <th>4</th>\n",
       "      <td>0004aac84e0df4da2b147fca70cf8255</td>\n",
       "      <td>2017-11</td>\n",
       "      <td>1</td>\n",
       "    </tr>\n",
       "  </tbody>\n",
       "</table>\n",
       "</div>"
      ],
      "text/plain": [
       "                 customer_unique_id purchase_at_ym  n_orders\n",
       "0  0000366f3b9a7992bf8c76cfdf3221e2        2018-05         1\n",
       "1  0000b849f77a49e4a4ce2b2a4ca5be3f        2018-05         1\n",
       "2  0000f46a3911fa3c0805444483337064        2017-03         1\n",
       "3  0000f6ccb0745a6a4b88665a16c9f078        2017-10         1\n",
       "4  0004aac84e0df4da2b147fca70cf8255        2017-11         1"
      ]
     },
     "execution_count": 79,
     "metadata": {},
     "output_type": "execute_result"
    }
   ],
   "source": [
    "# Посчитаем число заказов в месяц для каждого пользователя\n",
    "trgt_metric = \\\n",
    "            merged_df4 \\\n",
    "            .groupby(['customer_unique_id', 'purchase_at_ym'], as_index=False) \\\n",
    "            .agg(n_orders = ('order_id', 'nunique'))\n",
    "trgt_metric.head()"
   ]
  },
  {
   "cell_type": "code",
   "execution_count": 80,
   "metadata": {},
   "outputs": [],
   "source": [
    "# Добавим число недель в датафрейм\n",
    "trgt_metric = trgt_metric.merge(months[['ym', 'n_weeks']], left_on = 'purchase_at_ym', right_on = 'ym')\n",
    "trgt_metric = trgt_metric.drop(columns='ym')"
   ]
  },
  {
   "cell_type": "code",
   "execution_count": 81,
   "metadata": {},
   "outputs": [
    {
     "data": {
      "text/html": [
       "<div>\n",
       "<style scoped>\n",
       "    .dataframe tbody tr th:only-of-type {\n",
       "        vertical-align: middle;\n",
       "    }\n",
       "\n",
       "    .dataframe tbody tr th {\n",
       "        vertical-align: top;\n",
       "    }\n",
       "\n",
       "    .dataframe thead th {\n",
       "        text-align: right;\n",
       "    }\n",
       "</style>\n",
       "<table border=\"1\" class=\"dataframe\">\n",
       "  <thead>\n",
       "    <tr style=\"text-align: right;\">\n",
       "      <th></th>\n",
       "      <th>customer_unique_id</th>\n",
       "      <th>purchase_at_ym</th>\n",
       "      <th>n_orders</th>\n",
       "      <th>n_weeks</th>\n",
       "      <th>week_avg</th>\n",
       "    </tr>\n",
       "  </thead>\n",
       "  <tbody>\n",
       "    <tr>\n",
       "      <th>0</th>\n",
       "      <td>0000366f3b9a7992bf8c76cfdf3221e2</td>\n",
       "      <td>2018-05</td>\n",
       "      <td>1</td>\n",
       "      <td>4.43</td>\n",
       "      <td>0.23</td>\n",
       "    </tr>\n",
       "    <tr>\n",
       "      <th>63955</th>\n",
       "      <td>8ee3fb71a70e0c0062e676fe02aec2ef</td>\n",
       "      <td>2018-01</td>\n",
       "      <td>1</td>\n",
       "      <td>4.43</td>\n",
       "      <td>0.23</td>\n",
       "    </tr>\n",
       "    <tr>\n",
       "      <th>63954</th>\n",
       "      <td>8ed5dcd97281d7756bbcbb0cef40e17c</td>\n",
       "      <td>2018-01</td>\n",
       "      <td>1</td>\n",
       "      <td>4.43</td>\n",
       "      <td>0.23</td>\n",
       "    </tr>\n",
       "    <tr>\n",
       "      <th>63953</th>\n",
       "      <td>8ed3eba2d3f60776d559b6d704748b18</td>\n",
       "      <td>2018-01</td>\n",
       "      <td>1</td>\n",
       "      <td>4.43</td>\n",
       "      <td>0.23</td>\n",
       "    </tr>\n",
       "    <tr>\n",
       "      <th>63952</th>\n",
       "      <td>8ec1dbe8a5e435ff67eed21bbf78b170</td>\n",
       "      <td>2018-01</td>\n",
       "      <td>1</td>\n",
       "      <td>4.43</td>\n",
       "      <td>0.23</td>\n",
       "    </tr>\n",
       "  </tbody>\n",
       "</table>\n",
       "</div>"
      ],
      "text/plain": [
       "                     customer_unique_id purchase_at_ym  n_orders  n_weeks  \\\n",
       "0      0000366f3b9a7992bf8c76cfdf3221e2        2018-05         1     4.43   \n",
       "63955  8ee3fb71a70e0c0062e676fe02aec2ef        2018-01         1     4.43   \n",
       "63954  8ed5dcd97281d7756bbcbb0cef40e17c        2018-01         1     4.43   \n",
       "63953  8ed3eba2d3f60776d559b6d704748b18        2018-01         1     4.43   \n",
       "63952  8ec1dbe8a5e435ff67eed21bbf78b170        2018-01         1     4.43   \n",
       "\n",
       "       week_avg  \n",
       "0          0.23  \n",
       "63955      0.23  \n",
       "63954      0.23  \n",
       "63953      0.23  \n",
       "63952      0.23  "
      ]
     },
     "execution_count": 81,
     "metadata": {},
     "output_type": "execute_result"
    }
   ],
   "source": [
    "# Посчитаем число заказов в неделю для каждого пользователя по месяцам\n",
    "trgt_metric['week_avg'] = round(trgt_metric['n_orders'] / trgt_metric['n_weeks'], 2)\n",
    "trgt_metric.sort_values(['week_avg'], inplace=True)\n",
    "trgt_metric.head()"
   ]
  },
  {
   "cell_type": "code",
   "execution_count": 82,
   "metadata": {},
   "outputs": [
    {
     "data": {
      "text/plain": [
       "count    97916.000\n",
       "mean         0.235\n",
       "std          0.029\n",
       "min          0.230\n",
       "25%          0.230\n",
       "50%          0.230\n",
       "75%          0.230\n",
       "max          1.350\n",
       "Name: week_avg, dtype: float64"
      ]
     },
     "execution_count": 82,
     "metadata": {},
     "output_type": "execute_result"
    }
   ],
   "source": [
    "# Посмотрим на описательную статистику для метрики\n",
    "trgt_metric['week_avg'].describe().round(3)"
   ]
  },
  {
   "cell_type": "markdown",
   "metadata": {},
   "source": [
    "## 5. Провести когортный анализ пользователей. В период с января по декабрь выявить когорту с самым высоким retention на 3й месяц. "
   ]
  },
  {
   "cell_type": "markdown",
   "metadata": {},
   "source": [
    "#### 1) Опеределим параметры для когортного анализа\n",
    "\n",
    "**Признак формирования когорты**: сформируем когорты по дате первого заказа\n",
    "\n",
    "*Комментарий:  \n",
    "Отметим, что мы не знаем, какую долю в базе составляют постоянные клиенты, а какую - новые покупатели, но это важно для интерпретации результатов. Будем считать, что наши данные содержат сведения, начиная с самых первых действий клиента, и мы можем выбрать не просто заказ с минимальной датой, а действительно первый заказ для каждого покупателя.*\n",
    "\n",
    "**Размер когорты**: месяц\n",
    "\n",
    "**Отчетный период**: с 01.01.2027 по 31.12.2017  \n",
    "\n",
    "**Анализируемый ключевой показатель**: Retention Rate"
   ]
  },
  {
   "cell_type": "markdown",
   "metadata": {},
   "source": [
    "#### 2) Сформируем когорты"
   ]
  },
  {
   "cell_type": "code",
   "execution_count": 84,
   "metadata": {},
   "outputs": [
    {
     "data": {
      "text/html": [
       "<div>\n",
       "<style scoped>\n",
       "    .dataframe tbody tr th:only-of-type {\n",
       "        vertical-align: middle;\n",
       "    }\n",
       "\n",
       "    .dataframe tbody tr th {\n",
       "        vertical-align: top;\n",
       "    }\n",
       "\n",
       "    .dataframe thead th {\n",
       "        text-align: right;\n",
       "    }\n",
       "</style>\n",
       "<table border=\"1\" class=\"dataframe\">\n",
       "  <thead>\n",
       "    <tr style=\"text-align: right;\">\n",
       "      <th></th>\n",
       "      <th>customer_unique_id</th>\n",
       "      <th>order_id</th>\n",
       "      <th>order_purchase_timestamp</th>\n",
       "      <th>purchase_month</th>\n",
       "      <th>cohort_month</th>\n",
       "    </tr>\n",
       "  </thead>\n",
       "  <tbody>\n",
       "    <tr>\n",
       "      <th>11977</th>\n",
       "      <td>0000f46a3911fa3c0805444483337064</td>\n",
       "      <td>b33ec3b699337181488304f362a6b734</td>\n",
       "      <td>2017-03-10 21:05:03</td>\n",
       "      <td>2017-03</td>\n",
       "      <td>2017-03</td>\n",
       "    </tr>\n",
       "    <tr>\n",
       "      <th>44534</th>\n",
       "      <td>0000f6ccb0745a6a4b88665a16c9f078</td>\n",
       "      <td>41272756ecddd9a9ed0180413cc22fb6</td>\n",
       "      <td>2017-10-12 20:29:41</td>\n",
       "      <td>2017-10</td>\n",
       "      <td>2017-10</td>\n",
       "    </tr>\n",
       "    <tr>\n",
       "      <th>18792</th>\n",
       "      <td>0004aac84e0df4da2b147fca70cf8255</td>\n",
       "      <td>d957021f1127559cd947b62533f484f7</td>\n",
       "      <td>2017-11-14 19:45:42</td>\n",
       "      <td>2017-11</td>\n",
       "      <td>2017-11</td>\n",
       "    </tr>\n",
       "    <tr>\n",
       "      <th>32148</th>\n",
       "      <td>0005e1862207bf6ccc02e4228effd9a0</td>\n",
       "      <td>ae76bef74b97bcb0b3e355e60d9a6f9c</td>\n",
       "      <td>2017-03-04 23:32:12</td>\n",
       "      <td>2017-03</td>\n",
       "      <td>2017-03</td>\n",
       "    </tr>\n",
       "    <tr>\n",
       "      <th>11859</th>\n",
       "      <td>0006fdc98a402fceb4eb0ee528f6a8d4</td>\n",
       "      <td>6681163e3dab91c549952b2845b20281</td>\n",
       "      <td>2017-07-18 09:23:10</td>\n",
       "      <td>2017-07</td>\n",
       "      <td>2017-07</td>\n",
       "    </tr>\n",
       "  </tbody>\n",
       "</table>\n",
       "</div>"
      ],
      "text/plain": [
       "                     customer_unique_id                          order_id  \\\n",
       "11977  0000f46a3911fa3c0805444483337064  b33ec3b699337181488304f362a6b734   \n",
       "44534  0000f6ccb0745a6a4b88665a16c9f078  41272756ecddd9a9ed0180413cc22fb6   \n",
       "18792  0004aac84e0df4da2b147fca70cf8255  d957021f1127559cd947b62533f484f7   \n",
       "32148  0005e1862207bf6ccc02e4228effd9a0  ae76bef74b97bcb0b3e355e60d9a6f9c   \n",
       "11859  0006fdc98a402fceb4eb0ee528f6a8d4  6681163e3dab91c549952b2845b20281   \n",
       "\n",
       "      order_purchase_timestamp purchase_month cohort_month  \n",
       "11977      2017-03-10 21:05:03        2017-03      2017-03  \n",
       "44534      2017-10-12 20:29:41        2017-10      2017-10  \n",
       "18792      2017-11-14 19:45:42        2017-11      2017-11  \n",
       "32148      2017-03-04 23:32:12        2017-03      2017-03  \n",
       "11859      2017-07-18 09:23:10        2017-07      2017-07  "
      ]
     },
     "execution_count": 84,
     "metadata": {},
     "output_type": "execute_result"
    }
   ],
   "source": [
    "# Возьмем уникальный id пользователя из customers\n",
    "merged_df5 = orders.merge(customers, on = 'customer_id')\n",
    "\n",
    "# Выберем нужный период в данных и оставим только оплаченные заказы\n",
    "merged_df5 = merged_df5 \\\n",
    "            .query(\"(order_purchase_timestamp >= '2017-01-01') & (order_purchase_timestamp <= '2017-12-31') \\\n",
    "                   & ~order_approved_at.isna()\") \\\n",
    "            .reset_index(drop=True)[['customer_unique_id', 'order_id', 'order_purchase_timestamp']]\n",
    "\n",
    "# Добавим колонку с месяцем заказа\n",
    "merged_df5['purchase_month'] = merged_df5['order_purchase_timestamp'].dt.to_period('M')\n",
    "\n",
    "# Добавим колонку с когортой\n",
    "merged_df5['cohort_month'] = \\\n",
    "    merged_df5.groupby('customer_unique_id')['purchase_month'] \\\n",
    "    .transform(lambda x: (min(x))) \n",
    "\n",
    "merged_df5.sort_values(['customer_unique_id', 'order_purchase_timestamp'], inplace=True)\n",
    "merged_df5.head()"
   ]
  },
  {
   "cell_type": "markdown",
   "metadata": {},
   "source": [
    "#### 3) Посчитаем retention и представим его в виде матрицы"
   ]
  },
  {
   "cell_type": "code",
   "execution_count": 85,
   "metadata": {},
   "outputs": [
    {
     "data": {
      "text/html": [
       "<div>\n",
       "<style scoped>\n",
       "    .dataframe tbody tr th:only-of-type {\n",
       "        vertical-align: middle;\n",
       "    }\n",
       "\n",
       "    .dataframe tbody tr th {\n",
       "        vertical-align: top;\n",
       "    }\n",
       "\n",
       "    .dataframe thead th {\n",
       "        text-align: right;\n",
       "    }\n",
       "</style>\n",
       "<table border=\"1\" class=\"dataframe\">\n",
       "  <thead>\n",
       "    <tr style=\"text-align: right;\">\n",
       "      <th></th>\n",
       "      <th>cohort_month</th>\n",
       "      <th>purchase_month</th>\n",
       "      <th>n_customers</th>\n",
       "      <th>period_number</th>\n",
       "    </tr>\n",
       "  </thead>\n",
       "  <tbody>\n",
       "    <tr>\n",
       "      <th>0</th>\n",
       "      <td>2017-01</td>\n",
       "      <td>2017-01</td>\n",
       "      <td>763</td>\n",
       "      <td>0</td>\n",
       "    </tr>\n",
       "    <tr>\n",
       "      <th>1</th>\n",
       "      <td>2017-01</td>\n",
       "      <td>2017-02</td>\n",
       "      <td>3</td>\n",
       "      <td>1</td>\n",
       "    </tr>\n",
       "    <tr>\n",
       "      <th>2</th>\n",
       "      <td>2017-01</td>\n",
       "      <td>2017-03</td>\n",
       "      <td>2</td>\n",
       "      <td>2</td>\n",
       "    </tr>\n",
       "    <tr>\n",
       "      <th>3</th>\n",
       "      <td>2017-01</td>\n",
       "      <td>2017-04</td>\n",
       "      <td>1</td>\n",
       "      <td>3</td>\n",
       "    </tr>\n",
       "    <tr>\n",
       "      <th>4</th>\n",
       "      <td>2017-01</td>\n",
       "      <td>2017-05</td>\n",
       "      <td>3</td>\n",
       "      <td>4</td>\n",
       "    </tr>\n",
       "    <tr>\n",
       "      <th>...</th>\n",
       "      <td>...</td>\n",
       "      <td>...</td>\n",
       "      <td>...</td>\n",
       "      <td>...</td>\n",
       "    </tr>\n",
       "    <tr>\n",
       "      <th>72</th>\n",
       "      <td>2017-10</td>\n",
       "      <td>2017-11</td>\n",
       "      <td>31</td>\n",
       "      <td>1</td>\n",
       "    </tr>\n",
       "    <tr>\n",
       "      <th>73</th>\n",
       "      <td>2017-10</td>\n",
       "      <td>2017-12</td>\n",
       "      <td>11</td>\n",
       "      <td>2</td>\n",
       "    </tr>\n",
       "    <tr>\n",
       "      <th>74</th>\n",
       "      <td>2017-11</td>\n",
       "      <td>2017-11</td>\n",
       "      <td>7298</td>\n",
       "      <td>0</td>\n",
       "    </tr>\n",
       "    <tr>\n",
       "      <th>75</th>\n",
       "      <td>2017-11</td>\n",
       "      <td>2017-12</td>\n",
       "      <td>40</td>\n",
       "      <td>1</td>\n",
       "    </tr>\n",
       "    <tr>\n",
       "      <th>76</th>\n",
       "      <td>2017-12</td>\n",
       "      <td>2017-12</td>\n",
       "      <td>5409</td>\n",
       "      <td>0</td>\n",
       "    </tr>\n",
       "  </tbody>\n",
       "</table>\n",
       "<p>77 rows × 4 columns</p>\n",
       "</div>"
      ],
      "text/plain": [
       "   cohort_month purchase_month  n_customers  period_number\n",
       "0       2017-01        2017-01          763              0\n",
       "1       2017-01        2017-02            3              1\n",
       "2       2017-01        2017-03            2              2\n",
       "3       2017-01        2017-04            1              3\n",
       "4       2017-01        2017-05            3              4\n",
       "..          ...            ...          ...            ...\n",
       "72      2017-10        2017-11           31              1\n",
       "73      2017-10        2017-12           11              2\n",
       "74      2017-11        2017-11         7298              0\n",
       "75      2017-11        2017-12           40              1\n",
       "76      2017-12        2017-12         5409              0\n",
       "\n",
       "[77 rows x 4 columns]"
      ]
     },
     "execution_count": 85,
     "metadata": {},
     "output_type": "execute_result"
    }
   ],
   "source": [
    "# Число покупателей в каждый месяц в каждой когорте \n",
    "cohort_df = \\\n",
    "    merged_df5.groupby(['cohort_month', 'purchase_month'], as_index=False) \\\n",
    "    .agg(n_customers=('customer_unique_id', 'nunique')) \n",
    "\n",
    "\n",
    "# Добавим колонку с индексом когорты (сколько месяцев прошло с момента первого заказа)\n",
    "cohort_df['period_number'] = cohort_df.apply(lambda x: (x['purchase_month'] - x['cohort_month']).n, axis=1)\n",
    "cohort_df"
   ]
  },
  {
   "cell_type": "code",
   "execution_count": 86,
   "metadata": {},
   "outputs": [
    {
     "data": {
      "text/html": [
       "<div>\n",
       "<style scoped>\n",
       "    .dataframe tbody tr th:only-of-type {\n",
       "        vertical-align: middle;\n",
       "    }\n",
       "\n",
       "    .dataframe tbody tr th {\n",
       "        vertical-align: top;\n",
       "    }\n",
       "\n",
       "    .dataframe thead th {\n",
       "        text-align: right;\n",
       "    }\n",
       "</style>\n",
       "<table border=\"1\" class=\"dataframe\">\n",
       "  <thead>\n",
       "    <tr style=\"text-align: right;\">\n",
       "      <th>period_number</th>\n",
       "      <th>0</th>\n",
       "      <th>1</th>\n",
       "      <th>2</th>\n",
       "      <th>3</th>\n",
       "      <th>4</th>\n",
       "      <th>5</th>\n",
       "      <th>6</th>\n",
       "      <th>7</th>\n",
       "      <th>8</th>\n",
       "      <th>9</th>\n",
       "      <th>10</th>\n",
       "      <th>11</th>\n",
       "    </tr>\n",
       "    <tr>\n",
       "      <th>cohort_month</th>\n",
       "      <th></th>\n",
       "      <th></th>\n",
       "      <th></th>\n",
       "      <th></th>\n",
       "      <th></th>\n",
       "      <th></th>\n",
       "      <th></th>\n",
       "      <th></th>\n",
       "      <th></th>\n",
       "      <th></th>\n",
       "      <th></th>\n",
       "      <th></th>\n",
       "    </tr>\n",
       "  </thead>\n",
       "  <tbody>\n",
       "    <tr>\n",
       "      <th>2017-01</th>\n",
       "      <td>763.0</td>\n",
       "      <td>3.0</td>\n",
       "      <td>2.0</td>\n",
       "      <td>1.0</td>\n",
       "      <td>3.0</td>\n",
       "      <td>1.0</td>\n",
       "      <td>4.0</td>\n",
       "      <td>1.0</td>\n",
       "      <td>1.0</td>\n",
       "      <td>NaN</td>\n",
       "      <td>3.0</td>\n",
       "      <td>1.0</td>\n",
       "    </tr>\n",
       "    <tr>\n",
       "      <th>2017-02</th>\n",
       "      <td>1738.0</td>\n",
       "      <td>4.0</td>\n",
       "      <td>5.0</td>\n",
       "      <td>2.0</td>\n",
       "      <td>7.0</td>\n",
       "      <td>2.0</td>\n",
       "      <td>4.0</td>\n",
       "      <td>3.0</td>\n",
       "      <td>2.0</td>\n",
       "      <td>4.0</td>\n",
       "      <td>2.0</td>\n",
       "      <td>NaN</td>\n",
       "    </tr>\n",
       "    <tr>\n",
       "      <th>2017-03</th>\n",
       "      <td>2634.0</td>\n",
       "      <td>13.0</td>\n",
       "      <td>9.0</td>\n",
       "      <td>10.0</td>\n",
       "      <td>9.0</td>\n",
       "      <td>4.0</td>\n",
       "      <td>4.0</td>\n",
       "      <td>8.0</td>\n",
       "      <td>9.0</td>\n",
       "      <td>2.0</td>\n",
       "      <td>NaN</td>\n",
       "      <td>NaN</td>\n",
       "    </tr>\n",
       "    <tr>\n",
       "      <th>2017-04</th>\n",
       "      <td>2349.0</td>\n",
       "      <td>14.0</td>\n",
       "      <td>5.0</td>\n",
       "      <td>4.0</td>\n",
       "      <td>8.0</td>\n",
       "      <td>6.0</td>\n",
       "      <td>8.0</td>\n",
       "      <td>7.0</td>\n",
       "      <td>7.0</td>\n",
       "      <td>NaN</td>\n",
       "      <td>NaN</td>\n",
       "      <td>NaN</td>\n",
       "    </tr>\n",
       "    <tr>\n",
       "      <th>2017-05</th>\n",
       "      <td>3590.0</td>\n",
       "      <td>17.0</td>\n",
       "      <td>18.0</td>\n",
       "      <td>14.0</td>\n",
       "      <td>11.0</td>\n",
       "      <td>12.0</td>\n",
       "      <td>15.0</td>\n",
       "      <td>6.0</td>\n",
       "      <td>NaN</td>\n",
       "      <td>NaN</td>\n",
       "      <td>NaN</td>\n",
       "      <td>NaN</td>\n",
       "    </tr>\n",
       "    <tr>\n",
       "      <th>2017-06</th>\n",
       "      <td>3138.0</td>\n",
       "      <td>15.0</td>\n",
       "      <td>11.0</td>\n",
       "      <td>13.0</td>\n",
       "      <td>8.0</td>\n",
       "      <td>12.0</td>\n",
       "      <td>12.0</td>\n",
       "      <td>NaN</td>\n",
       "      <td>NaN</td>\n",
       "      <td>NaN</td>\n",
       "      <td>NaN</td>\n",
       "      <td>NaN</td>\n",
       "    </tr>\n",
       "    <tr>\n",
       "      <th>2017-07</th>\n",
       "      <td>3890.0</td>\n",
       "      <td>20.0</td>\n",
       "      <td>14.0</td>\n",
       "      <td>10.0</td>\n",
       "      <td>11.0</td>\n",
       "      <td>8.0</td>\n",
       "      <td>NaN</td>\n",
       "      <td>NaN</td>\n",
       "      <td>NaN</td>\n",
       "      <td>NaN</td>\n",
       "      <td>NaN</td>\n",
       "      <td>NaN</td>\n",
       "    </tr>\n",
       "    <tr>\n",
       "      <th>2017-08</th>\n",
       "      <td>4181.0</td>\n",
       "      <td>28.0</td>\n",
       "      <td>14.0</td>\n",
       "      <td>11.0</td>\n",
       "      <td>15.0</td>\n",
       "      <td>NaN</td>\n",
       "      <td>NaN</td>\n",
       "      <td>NaN</td>\n",
       "      <td>NaN</td>\n",
       "      <td>NaN</td>\n",
       "      <td>NaN</td>\n",
       "      <td>NaN</td>\n",
       "    </tr>\n",
       "    <tr>\n",
       "      <th>2017-09</th>\n",
       "      <td>4128.0</td>\n",
       "      <td>28.0</td>\n",
       "      <td>22.0</td>\n",
       "      <td>11.0</td>\n",
       "      <td>NaN</td>\n",
       "      <td>NaN</td>\n",
       "      <td>NaN</td>\n",
       "      <td>NaN</td>\n",
       "      <td>NaN</td>\n",
       "      <td>NaN</td>\n",
       "      <td>NaN</td>\n",
       "      <td>NaN</td>\n",
       "    </tr>\n",
       "    <tr>\n",
       "      <th>2017-10</th>\n",
       "      <td>4467.0</td>\n",
       "      <td>31.0</td>\n",
       "      <td>11.0</td>\n",
       "      <td>NaN</td>\n",
       "      <td>NaN</td>\n",
       "      <td>NaN</td>\n",
       "      <td>NaN</td>\n",
       "      <td>NaN</td>\n",
       "      <td>NaN</td>\n",
       "      <td>NaN</td>\n",
       "      <td>NaN</td>\n",
       "      <td>NaN</td>\n",
       "    </tr>\n",
       "    <tr>\n",
       "      <th>2017-11</th>\n",
       "      <td>7298.0</td>\n",
       "      <td>40.0</td>\n",
       "      <td>NaN</td>\n",
       "      <td>NaN</td>\n",
       "      <td>NaN</td>\n",
       "      <td>NaN</td>\n",
       "      <td>NaN</td>\n",
       "      <td>NaN</td>\n",
       "      <td>NaN</td>\n",
       "      <td>NaN</td>\n",
       "      <td>NaN</td>\n",
       "      <td>NaN</td>\n",
       "    </tr>\n",
       "    <tr>\n",
       "      <th>2017-12</th>\n",
       "      <td>5409.0</td>\n",
       "      <td>NaN</td>\n",
       "      <td>NaN</td>\n",
       "      <td>NaN</td>\n",
       "      <td>NaN</td>\n",
       "      <td>NaN</td>\n",
       "      <td>NaN</td>\n",
       "      <td>NaN</td>\n",
       "      <td>NaN</td>\n",
       "      <td>NaN</td>\n",
       "      <td>NaN</td>\n",
       "      <td>NaN</td>\n",
       "    </tr>\n",
       "  </tbody>\n",
       "</table>\n",
       "</div>"
      ],
      "text/plain": [
       "period_number      0     1     2     3     4     5     6    7    8    9    10  \\\n",
       "cohort_month                                                                    \n",
       "2017-01         763.0   3.0   2.0   1.0   3.0   1.0   4.0  1.0  1.0  NaN  3.0   \n",
       "2017-02        1738.0   4.0   5.0   2.0   7.0   2.0   4.0  3.0  2.0  4.0  2.0   \n",
       "2017-03        2634.0  13.0   9.0  10.0   9.0   4.0   4.0  8.0  9.0  2.0  NaN   \n",
       "2017-04        2349.0  14.0   5.0   4.0   8.0   6.0   8.0  7.0  7.0  NaN  NaN   \n",
       "2017-05        3590.0  17.0  18.0  14.0  11.0  12.0  15.0  6.0  NaN  NaN  NaN   \n",
       "2017-06        3138.0  15.0  11.0  13.0   8.0  12.0  12.0  NaN  NaN  NaN  NaN   \n",
       "2017-07        3890.0  20.0  14.0  10.0  11.0   8.0   NaN  NaN  NaN  NaN  NaN   \n",
       "2017-08        4181.0  28.0  14.0  11.0  15.0   NaN   NaN  NaN  NaN  NaN  NaN   \n",
       "2017-09        4128.0  28.0  22.0  11.0   NaN   NaN   NaN  NaN  NaN  NaN  NaN   \n",
       "2017-10        4467.0  31.0  11.0   NaN   NaN   NaN   NaN  NaN  NaN  NaN  NaN   \n",
       "2017-11        7298.0  40.0   NaN   NaN   NaN   NaN   NaN  NaN  NaN  NaN  NaN   \n",
       "2017-12        5409.0   NaN   NaN   NaN   NaN   NaN   NaN  NaN  NaN  NaN  NaN   \n",
       "\n",
       "period_number   11  \n",
       "cohort_month        \n",
       "2017-01        1.0  \n",
       "2017-02        NaN  \n",
       "2017-03        NaN  \n",
       "2017-04        NaN  \n",
       "2017-05        NaN  \n",
       "2017-06        NaN  \n",
       "2017-07        NaN  \n",
       "2017-08        NaN  \n",
       "2017-09        NaN  \n",
       "2017-10        NaN  \n",
       "2017-11        NaN  \n",
       "2017-12        NaN  "
      ]
     },
     "execution_count": 86,
     "metadata": {},
     "output_type": "execute_result"
    }
   ],
   "source": [
    "# Развернем cohort_df таким образом, чтобы строки представляли когорты, а столбцы периоды. \n",
    "# Таким образом в ячейках будут значения числа покупателей из определенной когорты в определенный период.\n",
    "cohort_pivot = cohort_df.pivot_table(index = 'cohort_month',\n",
    "                                     columns = 'period_number',\n",
    "                                     values = 'n_customers')\n",
    "\n",
    "cohort_pivot"
   ]
  },
  {
   "cell_type": "code",
   "execution_count": 89,
   "metadata": {},
   "outputs": [
    {
     "data": {
      "text/html": [
       "<div>\n",
       "<style scoped>\n",
       "    .dataframe tbody tr th:only-of-type {\n",
       "        vertical-align: middle;\n",
       "    }\n",
       "\n",
       "    .dataframe tbody tr th {\n",
       "        vertical-align: top;\n",
       "    }\n",
       "\n",
       "    .dataframe thead th {\n",
       "        text-align: right;\n",
       "    }\n",
       "</style>\n",
       "<table border=\"1\" class=\"dataframe\">\n",
       "  <thead>\n",
       "    <tr style=\"text-align: right;\">\n",
       "      <th>period_number</th>\n",
       "      <th>0</th>\n",
       "      <th>1</th>\n",
       "      <th>2</th>\n",
       "      <th>3</th>\n",
       "      <th>4</th>\n",
       "      <th>5</th>\n",
       "      <th>6</th>\n",
       "      <th>7</th>\n",
       "      <th>8</th>\n",
       "      <th>9</th>\n",
       "      <th>10</th>\n",
       "      <th>11</th>\n",
       "    </tr>\n",
       "    <tr>\n",
       "      <th>cohort_month</th>\n",
       "      <th></th>\n",
       "      <th></th>\n",
       "      <th></th>\n",
       "      <th></th>\n",
       "      <th></th>\n",
       "      <th></th>\n",
       "      <th></th>\n",
       "      <th></th>\n",
       "      <th></th>\n",
       "      <th></th>\n",
       "      <th></th>\n",
       "      <th></th>\n",
       "    </tr>\n",
       "  </thead>\n",
       "  <tbody>\n",
       "    <tr>\n",
       "      <th>2017-01</th>\n",
       "      <td>1.0</td>\n",
       "      <td>0.003932</td>\n",
       "      <td>0.002621</td>\n",
       "      <td>0.001311</td>\n",
       "      <td>0.003932</td>\n",
       "      <td>0.001311</td>\n",
       "      <td>0.005242</td>\n",
       "      <td>0.001311</td>\n",
       "      <td>0.001311</td>\n",
       "      <td>NaN</td>\n",
       "      <td>0.003932</td>\n",
       "      <td>0.001311</td>\n",
       "    </tr>\n",
       "    <tr>\n",
       "      <th>2017-02</th>\n",
       "      <td>1.0</td>\n",
       "      <td>0.002301</td>\n",
       "      <td>0.002877</td>\n",
       "      <td>0.001151</td>\n",
       "      <td>0.004028</td>\n",
       "      <td>0.001151</td>\n",
       "      <td>0.002301</td>\n",
       "      <td>0.001726</td>\n",
       "      <td>0.001151</td>\n",
       "      <td>0.002301</td>\n",
       "      <td>0.001151</td>\n",
       "      <td>NaN</td>\n",
       "    </tr>\n",
       "    <tr>\n",
       "      <th>2017-03</th>\n",
       "      <td>1.0</td>\n",
       "      <td>0.004935</td>\n",
       "      <td>0.003417</td>\n",
       "      <td>0.003797</td>\n",
       "      <td>0.003417</td>\n",
       "      <td>0.001519</td>\n",
       "      <td>0.001519</td>\n",
       "      <td>0.003037</td>\n",
       "      <td>0.003417</td>\n",
       "      <td>0.000759</td>\n",
       "      <td>NaN</td>\n",
       "      <td>NaN</td>\n",
       "    </tr>\n",
       "    <tr>\n",
       "      <th>2017-04</th>\n",
       "      <td>1.0</td>\n",
       "      <td>0.005960</td>\n",
       "      <td>0.002129</td>\n",
       "      <td>0.001703</td>\n",
       "      <td>0.003406</td>\n",
       "      <td>0.002554</td>\n",
       "      <td>0.003406</td>\n",
       "      <td>0.002980</td>\n",
       "      <td>0.002980</td>\n",
       "      <td>NaN</td>\n",
       "      <td>NaN</td>\n",
       "      <td>NaN</td>\n",
       "    </tr>\n",
       "    <tr>\n",
       "      <th>2017-05</th>\n",
       "      <td>1.0</td>\n",
       "      <td>0.004735</td>\n",
       "      <td>0.005014</td>\n",
       "      <td>0.003900</td>\n",
       "      <td>0.003064</td>\n",
       "      <td>0.003343</td>\n",
       "      <td>0.004178</td>\n",
       "      <td>0.001671</td>\n",
       "      <td>NaN</td>\n",
       "      <td>NaN</td>\n",
       "      <td>NaN</td>\n",
       "      <td>NaN</td>\n",
       "    </tr>\n",
       "    <tr>\n",
       "      <th>2017-06</th>\n",
       "      <td>1.0</td>\n",
       "      <td>0.004780</td>\n",
       "      <td>0.003505</td>\n",
       "      <td>0.004143</td>\n",
       "      <td>0.002549</td>\n",
       "      <td>0.003824</td>\n",
       "      <td>0.003824</td>\n",
       "      <td>NaN</td>\n",
       "      <td>NaN</td>\n",
       "      <td>NaN</td>\n",
       "      <td>NaN</td>\n",
       "      <td>NaN</td>\n",
       "    </tr>\n",
       "    <tr>\n",
       "      <th>2017-07</th>\n",
       "      <td>1.0</td>\n",
       "      <td>0.005141</td>\n",
       "      <td>0.003599</td>\n",
       "      <td>0.002571</td>\n",
       "      <td>0.002828</td>\n",
       "      <td>0.002057</td>\n",
       "      <td>NaN</td>\n",
       "      <td>NaN</td>\n",
       "      <td>NaN</td>\n",
       "      <td>NaN</td>\n",
       "      <td>NaN</td>\n",
       "      <td>NaN</td>\n",
       "    </tr>\n",
       "    <tr>\n",
       "      <th>2017-08</th>\n",
       "      <td>1.0</td>\n",
       "      <td>0.006697</td>\n",
       "      <td>0.003348</td>\n",
       "      <td>0.002631</td>\n",
       "      <td>0.003588</td>\n",
       "      <td>NaN</td>\n",
       "      <td>NaN</td>\n",
       "      <td>NaN</td>\n",
       "      <td>NaN</td>\n",
       "      <td>NaN</td>\n",
       "      <td>NaN</td>\n",
       "      <td>NaN</td>\n",
       "    </tr>\n",
       "    <tr>\n",
       "      <th>2017-09</th>\n",
       "      <td>1.0</td>\n",
       "      <td>0.006783</td>\n",
       "      <td>0.005329</td>\n",
       "      <td>0.002665</td>\n",
       "      <td>NaN</td>\n",
       "      <td>NaN</td>\n",
       "      <td>NaN</td>\n",
       "      <td>NaN</td>\n",
       "      <td>NaN</td>\n",
       "      <td>NaN</td>\n",
       "      <td>NaN</td>\n",
       "      <td>NaN</td>\n",
       "    </tr>\n",
       "    <tr>\n",
       "      <th>2017-10</th>\n",
       "      <td>1.0</td>\n",
       "      <td>0.006940</td>\n",
       "      <td>0.002463</td>\n",
       "      <td>NaN</td>\n",
       "      <td>NaN</td>\n",
       "      <td>NaN</td>\n",
       "      <td>NaN</td>\n",
       "      <td>NaN</td>\n",
       "      <td>NaN</td>\n",
       "      <td>NaN</td>\n",
       "      <td>NaN</td>\n",
       "      <td>NaN</td>\n",
       "    </tr>\n",
       "    <tr>\n",
       "      <th>2017-11</th>\n",
       "      <td>1.0</td>\n",
       "      <td>0.005481</td>\n",
       "      <td>NaN</td>\n",
       "      <td>NaN</td>\n",
       "      <td>NaN</td>\n",
       "      <td>NaN</td>\n",
       "      <td>NaN</td>\n",
       "      <td>NaN</td>\n",
       "      <td>NaN</td>\n",
       "      <td>NaN</td>\n",
       "      <td>NaN</td>\n",
       "      <td>NaN</td>\n",
       "    </tr>\n",
       "    <tr>\n",
       "      <th>2017-12</th>\n",
       "      <td>1.0</td>\n",
       "      <td>NaN</td>\n",
       "      <td>NaN</td>\n",
       "      <td>NaN</td>\n",
       "      <td>NaN</td>\n",
       "      <td>NaN</td>\n",
       "      <td>NaN</td>\n",
       "      <td>NaN</td>\n",
       "      <td>NaN</td>\n",
       "      <td>NaN</td>\n",
       "      <td>NaN</td>\n",
       "      <td>NaN</td>\n",
       "    </tr>\n",
       "  </tbody>\n",
       "</table>\n",
       "</div>"
      ],
      "text/plain": [
       "period_number   0         1         2         3         4         5   \\\n",
       "cohort_month                                                           \n",
       "2017-01        1.0  0.003932  0.002621  0.001311  0.003932  0.001311   \n",
       "2017-02        1.0  0.002301  0.002877  0.001151  0.004028  0.001151   \n",
       "2017-03        1.0  0.004935  0.003417  0.003797  0.003417  0.001519   \n",
       "2017-04        1.0  0.005960  0.002129  0.001703  0.003406  0.002554   \n",
       "2017-05        1.0  0.004735  0.005014  0.003900  0.003064  0.003343   \n",
       "2017-06        1.0  0.004780  0.003505  0.004143  0.002549  0.003824   \n",
       "2017-07        1.0  0.005141  0.003599  0.002571  0.002828  0.002057   \n",
       "2017-08        1.0  0.006697  0.003348  0.002631  0.003588       NaN   \n",
       "2017-09        1.0  0.006783  0.005329  0.002665       NaN       NaN   \n",
       "2017-10        1.0  0.006940  0.002463       NaN       NaN       NaN   \n",
       "2017-11        1.0  0.005481       NaN       NaN       NaN       NaN   \n",
       "2017-12        1.0       NaN       NaN       NaN       NaN       NaN   \n",
       "\n",
       "period_number        6         7         8         9         10        11  \n",
       "cohort_month                                                               \n",
       "2017-01        0.005242  0.001311  0.001311       NaN  0.003932  0.001311  \n",
       "2017-02        0.002301  0.001726  0.001151  0.002301  0.001151       NaN  \n",
       "2017-03        0.001519  0.003037  0.003417  0.000759       NaN       NaN  \n",
       "2017-04        0.003406  0.002980  0.002980       NaN       NaN       NaN  \n",
       "2017-05        0.004178  0.001671       NaN       NaN       NaN       NaN  \n",
       "2017-06        0.003824       NaN       NaN       NaN       NaN       NaN  \n",
       "2017-07             NaN       NaN       NaN       NaN       NaN       NaN  \n",
       "2017-08             NaN       NaN       NaN       NaN       NaN       NaN  \n",
       "2017-09             NaN       NaN       NaN       NaN       NaN       NaN  \n",
       "2017-10             NaN       NaN       NaN       NaN       NaN       NaN  \n",
       "2017-11             NaN       NaN       NaN       NaN       NaN       NaN  \n",
       "2017-12             NaN       NaN       NaN       NaN       NaN       NaN  "
      ]
     },
     "execution_count": 89,
     "metadata": {},
     "output_type": "execute_result"
    }
   ],
   "source": [
    "# Теперь создадим такую же матрицу для показателя retention rate.\n",
    "# Для этого в cohort_pivot поделим каждое значение в строке на 1-е значение в этой же строке (= размеру когорты). \n",
    "\n",
    "cohort_size = cohort_pivot.iloc[:,0]\n",
    "retention_matrix = cohort_pivot.divide(cohort_size, axis = 0)\n",
    "retention_matrix"
   ]
  },
  {
   "cell_type": "code",
   "execution_count": 72,
   "metadata": {},
   "outputs": [
    {
     "data": {
      "image/png": "[encoded data removed]",
      "text/plain": [
       "<Figure size 864x576 with 3 Axes>"
      ]
     },
     "metadata": {},
     "output_type": "display_data"
    }
   ],
   "source": [
    "# Отобразим матрицу с retention rate в виде тепловой карты.\n",
    "# Также отобразим на ней размер когорты. \n",
    "\n",
    "import matplotlib.colors as mcolors\n",
    "\n",
    "with sns.axes_style(\"white\"):\n",
    "    fig, ax = plt.subplots(1, 2, figsize=(12, 8), sharey=True, gridspec_kw={'width_ratios': [1, 11]})\n",
    "    \n",
    "    # матрица retention\n",
    "    sns.heatmap(retention_matrix, \n",
    "                mask=retention_matrix.isnull(), \n",
    "                annot=True, \n",
    "                fmt='.2%', \n",
    "                cmap='Blues', \n",
    "                ax=ax[1])\n",
    "    ax[1].set_title('Monthly Cohorts: User Retention', fontsize=16)\n",
    "    ax[1].set(xlabel='# of periods',\n",
    "              ylabel='')\n",
    "\n",
    "    # размер когорты\n",
    "    cohort_size_df = pd.DataFrame(cohort_size).rename(columns={0: 'cohort_size'})\n",
    "    white_cmap = mcolors.ListedColormap(['white'])\n",
    "    sns.heatmap(cohort_size_df, \n",
    "                annot=True, \n",
    "                cbar=False, \n",
    "                fmt='g', \n",
    "                cmap=white_cmap, \n",
    "                ax=ax[0])\n",
    "\n",
    "    fig.tight_layout()"
   ]
  },
  {
   "cell_type": "markdown",
   "metadata": {},
   "source": [
    "#### 4) Выявим когорту с самым высоким retention на 3й месяц в период с января по декабрь."
   ]
  },
  {
   "cell_type": "code",
   "execution_count": 73,
   "metadata": {},
   "outputs": [
    {
     "data": {
      "text/plain": [
       "Period('2017-06', 'M')"
      ]
     },
     "execution_count": 73,
     "metadata": {},
     "output_type": "execute_result"
    }
   ],
   "source": [
    "retention_matrix[3].idxmax()"
   ]
  },
  {
   "cell_type": "markdown",
   "metadata": {},
   "source": [
    "**Общие выводы**\n",
    "\n",
    "В первый месяц доля пользователей с повторными покупками чуть выше (но выделяется февральская когорта, в ней показатель примерно в 2 раза меньше, чем в других когортах), далее в основном снижается, но в целом retention rate низкий (< 1%) во все периоды и во всех когортах без явных исключений.\n"
   ]
  },
  {
   "cell_type": "markdown",
   "metadata": {},
   "source": [
    "### 6. Построить RFM-сегментацию пользователей. Для каждого RFM-сегмента построить границы метрик recency, frequency и monetary для интерпретации кластеров. \n",
    "\n",
    "\n",
    "В кластеризации выберем следующие метрики: \n",
    "- Recency - время от последней покупки пользователя до текущей даты, \n",
    "- Frequency - суммарное количество покупок у пользователя за всё время, \n",
    "- Monetary - сумма покупок за всё время. "
   ]
  },
  {
   "cell_type": "markdown",
   "metadata": {},
   "source": [
    "#### 1) Подготовим данные для расчетов"
   ]
  },
  {
   "cell_type": "code",
   "execution_count": 4,
   "metadata": {},
   "outputs": [],
   "source": [
    "# Объединим данные в один датасет, при этом возьмем только оплаченные заказы\n",
    "merged_df6 = customers.merge(orders[~orders.order_approved_at.isna()], on = 'customer_id')\n",
    "merged_df6 = merged_df6.merge(items, on = 'order_id')  "
   ]
  },
  {
   "cell_type": "code",
   "execution_count": 5,
   "metadata": {},
   "outputs": [
    {
     "data": {
      "text/html": [
       "<div>\n",
       "<style scoped>\n",
       "    .dataframe tbody tr th:only-of-type {\n",
       "        vertical-align: middle;\n",
       "    }\n",
       "\n",
       "    .dataframe tbody tr th {\n",
       "        vertical-align: top;\n",
       "    }\n",
       "\n",
       "    .dataframe thead th {\n",
       "        text-align: right;\n",
       "    }\n",
       "</style>\n",
       "<table border=\"1\" class=\"dataframe\">\n",
       "  <thead>\n",
       "    <tr style=\"text-align: right;\">\n",
       "      <th></th>\n",
       "      <th>order_id</th>\n",
       "      <th>order_purchase_timestamp</th>\n",
       "      <th>customer_unique_id</th>\n",
       "      <th>price</th>\n",
       "    </tr>\n",
       "  </thead>\n",
       "  <tbody>\n",
       "    <tr>\n",
       "      <th>0</th>\n",
       "      <td>00010242fe8c5a6d1ba2dd792cb16214</td>\n",
       "      <td>2017-09-13 08:59:02</td>\n",
       "      <td>871766c5855e863f6eccc05f988b23cb</td>\n",
       "      <td>58.90</td>\n",
       "    </tr>\n",
       "    <tr>\n",
       "      <th>1</th>\n",
       "      <td>00018f77f2f0320c557190d7a144bdd3</td>\n",
       "      <td>2017-04-26 10:53:06</td>\n",
       "      <td>eb28e67c4c0b83846050ddfb8a35d051</td>\n",
       "      <td>239.90</td>\n",
       "    </tr>\n",
       "    <tr>\n",
       "      <th>2</th>\n",
       "      <td>000229ec398224ef6ca0657da4fc703e</td>\n",
       "      <td>2018-01-14 14:33:31</td>\n",
       "      <td>3818d81c6709e39d06b2738a8d3a2474</td>\n",
       "      <td>199.00</td>\n",
       "    </tr>\n",
       "    <tr>\n",
       "      <th>3</th>\n",
       "      <td>00024acbcdf0a6daa1e931b038114c75</td>\n",
       "      <td>2018-08-08 10:00:35</td>\n",
       "      <td>af861d436cfc08b2c2ddefd0ba074622</td>\n",
       "      <td>12.99</td>\n",
       "    </tr>\n",
       "    <tr>\n",
       "      <th>4</th>\n",
       "      <td>00042b26cf59d7ce69dfabb4e55b4fd9</td>\n",
       "      <td>2017-02-04 13:57:51</td>\n",
       "      <td>64b576fb70d441e8f1b2d7d446e483c5</td>\n",
       "      <td>199.90</td>\n",
       "    </tr>\n",
       "  </tbody>\n",
       "</table>\n",
       "</div>"
      ],
      "text/plain": [
       "                           order_id order_purchase_timestamp  \\\n",
       "0  00010242fe8c5a6d1ba2dd792cb16214      2017-09-13 08:59:02   \n",
       "1  00018f77f2f0320c557190d7a144bdd3      2017-04-26 10:53:06   \n",
       "2  000229ec398224ef6ca0657da4fc703e      2018-01-14 14:33:31   \n",
       "3  00024acbcdf0a6daa1e931b038114c75      2018-08-08 10:00:35   \n",
       "4  00042b26cf59d7ce69dfabb4e55b4fd9      2017-02-04 13:57:51   \n",
       "\n",
       "                 customer_unique_id   price  \n",
       "0  871766c5855e863f6eccc05f988b23cb   58.90  \n",
       "1  eb28e67c4c0b83846050ddfb8a35d051  239.90  \n",
       "2  3818d81c6709e39d06b2738a8d3a2474  199.00  \n",
       "3  af861d436cfc08b2c2ddefd0ba074622   12.99  \n",
       "4  64b576fb70d441e8f1b2d7d446e483c5  199.90  "
      ]
     },
     "execution_count": 5,
     "metadata": {},
     "output_type": "execute_result"
    }
   ],
   "source": [
    "# Посчитаем сумму каждого заказа\n",
    "orders_price = merged_df6[['customer_unique_id', 'order_id', 'order_purchase_timestamp', 'price']] \\\n",
    "                .groupby(['order_id', 'order_purchase_timestamp', 'customer_unique_id'], as_index=False) \\\n",
    "                .agg({'price': 'sum'})\n",
    "orders_price.head()"
   ]
  },
  {
   "cell_type": "code",
   "execution_count": 6,
   "metadata": {},
   "outputs": [
    {
     "data": {
      "text/plain": [
       "Timestamp('2018-10-18 17:30:18')"
      ]
     },
     "execution_count": 6,
     "metadata": {},
     "output_type": "execute_result"
    }
   ],
   "source": [
    "# Определим максимальную дату в данных, чтобы к ней привязать дату анализа now, необходимую для расчета Recency\n",
    "dates_cols = ['order_purchase_timestamp', 'order_approved_at', \n",
    "              'order_delivered_carrier_date', 'order_delivered_customer_date']\n",
    "\n",
    "max_date = orders[['order_id', *dates_cols]].melt(id_vars=['order_id'], value_vars=dates_cols).value.max() \n",
    "\n",
    "# Присвоим now значение, равное максимальной дате в данных + 1 день, чтобы имитировать анализ в реальном времени\n",
    "now = max_date + timedelta(days=1) \n",
    "now"
   ]
  },
  {
   "cell_type": "code",
   "execution_count": 7,
   "metadata": {},
   "outputs": [
    {
     "data": {
      "text/html": [
       "<div>\n",
       "<style scoped>\n",
       "    .dataframe tbody tr th:only-of-type {\n",
       "        vertical-align: middle;\n",
       "    }\n",
       "\n",
       "    .dataframe tbody tr th {\n",
       "        vertical-align: top;\n",
       "    }\n",
       "\n",
       "    .dataframe thead th {\n",
       "        text-align: right;\n",
       "    }\n",
       "</style>\n",
       "<table border=\"1\" class=\"dataframe\">\n",
       "  <thead>\n",
       "    <tr style=\"text-align: right;\">\n",
       "      <th></th>\n",
       "      <th>order_id</th>\n",
       "      <th>order_purchase_timestamp</th>\n",
       "      <th>customer_unique_id</th>\n",
       "      <th>price</th>\n",
       "      <th>days_since_order</th>\n",
       "    </tr>\n",
       "  </thead>\n",
       "  <tbody>\n",
       "    <tr>\n",
       "      <th>0</th>\n",
       "      <td>00010242fe8c5a6d1ba2dd792cb16214</td>\n",
       "      <td>2017-09-13 08:59:02</td>\n",
       "      <td>871766c5855e863f6eccc05f988b23cb</td>\n",
       "      <td>58.90</td>\n",
       "      <td>400</td>\n",
       "    </tr>\n",
       "    <tr>\n",
       "      <th>1</th>\n",
       "      <td>00018f77f2f0320c557190d7a144bdd3</td>\n",
       "      <td>2017-04-26 10:53:06</td>\n",
       "      <td>eb28e67c4c0b83846050ddfb8a35d051</td>\n",
       "      <td>239.90</td>\n",
       "      <td>540</td>\n",
       "    </tr>\n",
       "    <tr>\n",
       "      <th>2</th>\n",
       "      <td>000229ec398224ef6ca0657da4fc703e</td>\n",
       "      <td>2018-01-14 14:33:31</td>\n",
       "      <td>3818d81c6709e39d06b2738a8d3a2474</td>\n",
       "      <td>199.00</td>\n",
       "      <td>277</td>\n",
       "    </tr>\n",
       "    <tr>\n",
       "      <th>3</th>\n",
       "      <td>00024acbcdf0a6daa1e931b038114c75</td>\n",
       "      <td>2018-08-08 10:00:35</td>\n",
       "      <td>af861d436cfc08b2c2ddefd0ba074622</td>\n",
       "      <td>12.99</td>\n",
       "      <td>71</td>\n",
       "    </tr>\n",
       "    <tr>\n",
       "      <th>4</th>\n",
       "      <td>00042b26cf59d7ce69dfabb4e55b4fd9</td>\n",
       "      <td>2017-02-04 13:57:51</td>\n",
       "      <td>64b576fb70d441e8f1b2d7d446e483c5</td>\n",
       "      <td>199.90</td>\n",
       "      <td>621</td>\n",
       "    </tr>\n",
       "  </tbody>\n",
       "</table>\n",
       "</div>"
      ],
      "text/plain": [
       "                           order_id order_purchase_timestamp  \\\n",
       "0  00010242fe8c5a6d1ba2dd792cb16214      2017-09-13 08:59:02   \n",
       "1  00018f77f2f0320c557190d7a144bdd3      2017-04-26 10:53:06   \n",
       "2  000229ec398224ef6ca0657da4fc703e      2018-01-14 14:33:31   \n",
       "3  00024acbcdf0a6daa1e931b038114c75      2018-08-08 10:00:35   \n",
       "4  00042b26cf59d7ce69dfabb4e55b4fd9      2017-02-04 13:57:51   \n",
       "\n",
       "                 customer_unique_id   price  days_since_order  \n",
       "0  871766c5855e863f6eccc05f988b23cb   58.90               400  \n",
       "1  eb28e67c4c0b83846050ddfb8a35d051  239.90               540  \n",
       "2  3818d81c6709e39d06b2738a8d3a2474  199.00               277  \n",
       "3  af861d436cfc08b2c2ddefd0ba074622   12.99                71  \n",
       "4  64b576fb70d441e8f1b2d7d446e483c5  199.90               621  "
      ]
     },
     "execution_count": 7,
     "metadata": {},
     "output_type": "execute_result"
    }
   ],
   "source": [
    "# Добавим столбец с разницей между текущей датой (now) и датой заказа \n",
    "orders_price['days_since_order'] = orders_price['order_purchase_timestamp'].apply(lambda x: (now - x).days)\n",
    "orders_price.head()"
   ]
  },
  {
   "cell_type": "markdown",
   "metadata": {},
   "source": [
    "#### 2) Посчитаем значения Recency, Frequency, Monetary для каждого пользователя"
   ]
  },
  {
   "cell_type": "code",
   "execution_count": 8,
   "metadata": {},
   "outputs": [
    {
     "data": {
      "text/html": [
       "<div>\n",
       "<style scoped>\n",
       "    .dataframe tbody tr th:only-of-type {\n",
       "        vertical-align: middle;\n",
       "    }\n",
       "\n",
       "    .dataframe tbody tr th {\n",
       "        vertical-align: top;\n",
       "    }\n",
       "\n",
       "    .dataframe thead th {\n",
       "        text-align: right;\n",
       "    }\n",
       "</style>\n",
       "<table border=\"1\" class=\"dataframe\">\n",
       "  <thead>\n",
       "    <tr style=\"text-align: right;\">\n",
       "      <th></th>\n",
       "      <th>customer_unique_id</th>\n",
       "      <th>Recency</th>\n",
       "      <th>Frequency</th>\n",
       "      <th>Monetary</th>\n",
       "    </tr>\n",
       "  </thead>\n",
       "  <tbody>\n",
       "    <tr>\n",
       "      <th>0</th>\n",
       "      <td>0000366f3b9a7992bf8c76cfdf3221e2</td>\n",
       "      <td>161</td>\n",
       "      <td>1</td>\n",
       "      <td>129.90</td>\n",
       "    </tr>\n",
       "    <tr>\n",
       "      <th>1</th>\n",
       "      <td>0000b849f77a49e4a4ce2b2a4ca5be3f</td>\n",
       "      <td>164</td>\n",
       "      <td>1</td>\n",
       "      <td>18.90</td>\n",
       "    </tr>\n",
       "    <tr>\n",
       "      <th>2</th>\n",
       "      <td>0000f46a3911fa3c0805444483337064</td>\n",
       "      <td>586</td>\n",
       "      <td>1</td>\n",
       "      <td>69.00</td>\n",
       "    </tr>\n",
       "    <tr>\n",
       "      <th>3</th>\n",
       "      <td>0000f6ccb0745a6a4b88665a16c9f078</td>\n",
       "      <td>370</td>\n",
       "      <td>1</td>\n",
       "      <td>25.99</td>\n",
       "    </tr>\n",
       "    <tr>\n",
       "      <th>4</th>\n",
       "      <td>0004aac84e0df4da2b147fca70cf8255</td>\n",
       "      <td>337</td>\n",
       "      <td>1</td>\n",
       "      <td>180.00</td>\n",
       "    </tr>\n",
       "  </tbody>\n",
       "</table>\n",
       "</div>"
      ],
      "text/plain": [
       "                 customer_unique_id  Recency  Frequency  Monetary\n",
       "0  0000366f3b9a7992bf8c76cfdf3221e2      161          1    129.90\n",
       "1  0000b849f77a49e4a4ce2b2a4ca5be3f      164          1     18.90\n",
       "2  0000f46a3911fa3c0805444483337064      586          1     69.00\n",
       "3  0000f6ccb0745a6a4b88665a16c9f078      370          1     25.99\n",
       "4  0004aac84e0df4da2b147fca70cf8255      337          1    180.00"
      ]
     },
     "execution_count": 8,
     "metadata": {},
     "output_type": "execute_result"
    }
   ],
   "source": [
    "rfm = orders_price \\\n",
    "        .groupby('customer_unique_id', as_index=False) \\\n",
    "        .agg(Recency = ('days_since_order', 'min'),\n",
    "             Frequency = ('order_purchase_timestamp', 'count'),\n",
    "             Monetary = ('price', 'sum'))\n",
    "\n",
    "rfm.head()"
   ]
  },
  {
   "cell_type": "markdown",
   "metadata": {},
   "source": [
    "#### 3) Определим значения R, F, M \n",
    "Для каждого покупателя назначим оценку от 1 до 3 по каждому параметру."
   ]
  },
  {
   "cell_type": "code",
   "execution_count": 9,
   "metadata": {},
   "outputs": [
    {
     "data": {
      "text/plain": [
       "<matplotlib.axes._subplots.AxesSubplot at 0x7f2b304bfbe0>"
      ]
     },
     "execution_count": 9,
     "metadata": {},
     "output_type": "execute_result"
    },
    {
     "data": {
      "image/png": "[encoded data removed]",
      "text/plain": [
       "<Figure size 432x288 with 1 Axes>"
      ]
     },
     "metadata": {
      "needs_background": "light"
     },
     "output_type": "display_data"
    }
   ],
   "source": [
    "# Посмотрим на распределение числа дней с момента последней покупки\n",
    "sns.histplot(rfm['Recency'])"
   ]
  },
  {
   "cell_type": "markdown",
   "metadata": {},
   "source": [
    "Видим относительно стабильную активность в последние примерно 330 дней и затем постепеннное убывание активности с увеличением давности. Видимо наш продукт покупают не часто, но так как точной информации об особенностях бизнеса нет и в целом график довольно плавный, выберем определить значения сегментов Recency через квантили."
   ]
  },
  {
   "cell_type": "code",
   "execution_count": 108,
   "metadata": {},
   "outputs": [
    {
     "data": {
      "text/plain": [
       "<matplotlib.axes._subplots.AxesSubplot at 0x7f629eebb748>"
      ]
     },
     "execution_count": 108,
     "metadata": {},
     "output_type": "execute_result"
    },
    {
     "data": {
      "image/png": "[encoded data removed]",
      "text/plain": [
       "<Figure size 432x288 with 1 Axes>"
      ]
     },
     "metadata": {
      "needs_background": "light"
     },
     "output_type": "display_data"
    }
   ],
   "source": [
    "# Посмотрим на распределение частоты покупок\n",
    "sns.histplot(rfm['Frequency'])"
   ]
  },
  {
   "cell_type": "markdown",
   "metadata": {},
   "source": [
    "Существенная часть клиентов совершила только 1 покупку, выделим их в отдельный сегмент Frequency=1.  \n",
    "Покупателей, которые совершили 2 покупки отнесем к Frequency=2.  \n",
    "Остальных покупателей, то есть у кого больше 2-х покупок в сегмент Frequency=3."
   ]
  },
  {
   "cell_type": "code",
   "execution_count": 123,
   "metadata": {},
   "outputs": [
    {
     "data": {
      "text/plain": [
       "<matplotlib.axes._subplots.AxesSubplot at 0x7f629a4d8208>"
      ]
     },
     "execution_count": 123,
     "metadata": {},
     "output_type": "execute_result"
    },
    {
     "data": {
      "image/png": "[encoded data removed]",
      "text/plain": [
       "<Figure size 432x288 with 1 Axes>"
      ]
     },
     "metadata": {
      "needs_background": "light"
     },
     "output_type": "display_data"
    }
   ],
   "source": [
    "# Посмотрим на распределение суммы покупок\n",
    "sns.histplot(rfm['Monetary'])"
   ]
  },
  {
   "cell_type": "code",
   "execution_count": 130,
   "metadata": {},
   "outputs": [
    {
     "data": {
      "text/plain": [
       "<matplotlib.axes._subplots.AxesSubplot at 0x7f629804ac50>"
      ]
     },
     "execution_count": 130,
     "metadata": {},
     "output_type": "execute_result"
    },
    {
     "data": {
      "image/png": "[encoded data removed]",
      "text/plain": [
       "<Figure size 432x288 with 1 Axes>"
      ]
     },
     "metadata": {
      "needs_background": "light"
     },
     "output_type": "display_data"
    }
   ],
   "source": [
    "# Отфильтруем наблюдения, чтобы посмотреть на график подробнее\n",
    "sns.histplot(rfm[rfm['Monetary'] < 500]['Monetary'])"
   ]
  },
  {
   "cell_type": "markdown",
   "metadata": {},
   "source": [
    "Большинство покупателей потратили относительно небольшие суммы, при этом есть длинный хвост из редких крупных сумм. \n",
    "Снижение графика довольно плавное, поэтому определим сегменты для Monetary на основе квантилей."
   ]
  },
  {
   "cell_type": "code",
   "execution_count": 9,
   "metadata": {},
   "outputs": [
    {
     "data": {
      "text/plain": [
       "{'Recency': {0.0: 45.0, 0.33: 197.0, 0.66: 336.0, 1.0: 773.0},\n",
       " 'Monetary': {0.0: 0.85, 0.33: 57.99, 0.66: 125.0, 1.0: 13440.0}}"
      ]
     },
     "execution_count": 9,
     "metadata": {},
     "output_type": "execute_result"
    }
   ],
   "source": [
    "# Рассчитаем квантили для Recency и Monetary, чтобы по ним установить границы сегментов\n",
    "limits = rfm[['Recency', 'Monetary']].quantile([0, .33, .66, 1]).to_dict()\n",
    "limits"
   ]
  },
  {
   "cell_type": "code",
   "execution_count": 11,
   "metadata": {},
   "outputs": [
    {
     "data": {
      "text/plain": [
       "{'Recency': {0.0: 45.0, 0.33: 197.0, 0.66: 336.0, 1.0: 773.0},\n",
       " 'Monetary': {0.0: 0.85, 0.33: 57.99, 0.66: 125.0, 1.0: 13440.0},\n",
       " 'Frequency': {0.33: 1.0, 0.66: 2.0}}"
      ]
     },
     "execution_count": 11,
     "metadata": {},
     "output_type": "execute_result"
    }
   ],
   "source": [
    "# Зададим границы для Frequency:\n",
    "limits['Frequency'] = {.33: 1.0, .66: 2.0}\n",
    "limits"
   ]
  },
  {
   "cell_type": "code",
   "execution_count": 12,
   "metadata": {},
   "outputs": [],
   "source": [
    "# Напишем метод, который задает значения R, F, M (от 1 до 3).\n",
    "def rfm_score(x, c, s):\n",
    "    if x <= limits[c][.33]:\n",
    "        return s[0]\n",
    "    elif x <= limits[c][.66]:\n",
    "        return s[1]\n",
    "    else:\n",
    "        return s[2]"
   ]
  },
  {
   "cell_type": "code",
   "execution_count": 13,
   "metadata": {},
   "outputs": [
    {
     "data": {
      "text/html": [
       "<div>\n",
       "<style scoped>\n",
       "    .dataframe tbody tr th:only-of-type {\n",
       "        vertical-align: middle;\n",
       "    }\n",
       "\n",
       "    .dataframe tbody tr th {\n",
       "        vertical-align: top;\n",
       "    }\n",
       "\n",
       "    .dataframe thead th {\n",
       "        text-align: right;\n",
       "    }\n",
       "</style>\n",
       "<table border=\"1\" class=\"dataframe\">\n",
       "  <thead>\n",
       "    <tr style=\"text-align: right;\">\n",
       "      <th></th>\n",
       "      <th>customer_unique_id</th>\n",
       "      <th>Recency</th>\n",
       "      <th>Frequency</th>\n",
       "      <th>Monetary</th>\n",
       "      <th>R</th>\n",
       "      <th>F</th>\n",
       "      <th>M</th>\n",
       "    </tr>\n",
       "  </thead>\n",
       "  <tbody>\n",
       "    <tr>\n",
       "      <th>0</th>\n",
       "      <td>0000366f3b9a7992bf8c76cfdf3221e2</td>\n",
       "      <td>161</td>\n",
       "      <td>1</td>\n",
       "      <td>129.90</td>\n",
       "      <td>3</td>\n",
       "      <td>1</td>\n",
       "      <td>3</td>\n",
       "    </tr>\n",
       "    <tr>\n",
       "      <th>1</th>\n",
       "      <td>0000b849f77a49e4a4ce2b2a4ca5be3f</td>\n",
       "      <td>164</td>\n",
       "      <td>1</td>\n",
       "      <td>18.90</td>\n",
       "      <td>3</td>\n",
       "      <td>1</td>\n",
       "      <td>1</td>\n",
       "    </tr>\n",
       "    <tr>\n",
       "      <th>2</th>\n",
       "      <td>0000f46a3911fa3c0805444483337064</td>\n",
       "      <td>586</td>\n",
       "      <td>1</td>\n",
       "      <td>69.00</td>\n",
       "      <td>1</td>\n",
       "      <td>1</td>\n",
       "      <td>2</td>\n",
       "    </tr>\n",
       "    <tr>\n",
       "      <th>3</th>\n",
       "      <td>0000f6ccb0745a6a4b88665a16c9f078</td>\n",
       "      <td>370</td>\n",
       "      <td>1</td>\n",
       "      <td>25.99</td>\n",
       "      <td>1</td>\n",
       "      <td>1</td>\n",
       "      <td>1</td>\n",
       "    </tr>\n",
       "    <tr>\n",
       "      <th>4</th>\n",
       "      <td>0004aac84e0df4da2b147fca70cf8255</td>\n",
       "      <td>337</td>\n",
       "      <td>1</td>\n",
       "      <td>180.00</td>\n",
       "      <td>1</td>\n",
       "      <td>1</td>\n",
       "      <td>3</td>\n",
       "    </tr>\n",
       "  </tbody>\n",
       "</table>\n",
       "</div>"
      ],
      "text/plain": [
       "                 customer_unique_id  Recency  Frequency  Monetary  R  F  M\n",
       "0  0000366f3b9a7992bf8c76cfdf3221e2      161          1    129.90  3  1  3\n",
       "1  0000b849f77a49e4a4ce2b2a4ca5be3f      164          1     18.90  3  1  1\n",
       "2  0000f46a3911fa3c0805444483337064      586          1     69.00  1  1  2\n",
       "3  0000f6ccb0745a6a4b88665a16c9f078      370          1     25.99  1  1  1\n",
       "4  0004aac84e0df4da2b147fca70cf8255      337          1    180.00  1  1  3"
      ]
     },
     "execution_count": 13,
     "metadata": {},
     "output_type": "execute_result"
    }
   ],
   "source": [
    "# Для Recency чем меньше значение, тем лучше, для Frequency и Monetary, наоборот, лучше большие значения. \n",
    "# Поэтому зададим соответствующие значения в переменной s так, чтобы от 1 к 3 значило от худшего к лучшему.\n",
    "scores = [1, 2, 3]\n",
    "\n",
    "rfm['R'] = rfm['Recency'].apply(lambda x: rfm_score(x, 'Recency', scores[::-1]))\n",
    "rfm['F'] = rfm['Frequency'].apply(lambda x: rfm_score(x, 'Frequency', scores))\n",
    "rfm['M'] = rfm['Monetary'].apply(lambda x: rfm_score(x, 'Monetary', scores))\n",
    "rfm.head()"
   ]
  },
  {
   "cell_type": "code",
   "execution_count": 21,
   "metadata": {},
   "outputs": [
    {
     "data": {
      "image/png": "[encoded data removed]",
      "text/plain": [
       "<Figure size 720x360 with 2 Axes>"
      ]
     },
     "metadata": {
      "needs_background": "light"
     },
     "output_type": "display_data"
    }
   ],
   "source": [
    "rfm_tbl = rfm.pivot_table(index='F', columns='R', values = 'Monetary', aggfunc=np.mean).applymap(float)\n",
    "\n",
    "plt.figure(figsize=(10, 5))\n",
    "sns.heatmap(rfm_tbl, annot=True, fmt='.2f', cmap='Blues')\n",
    "plt.title('Средняя выручка по сегментам', fontsize=15)\n",
    "plt.gca().invert_yaxis()"
   ]
  },
  {
   "cell_type": "markdown",
   "metadata": {},
   "source": [
    "Ожидаемо наибольшую выручку принесли пользователи с наибольшей частотой покупок и близкой к сегодняшнему дню последней покупки."
   ]
  },
  {
   "cell_type": "markdown",
   "metadata": {},
   "source": [
    "#### 4) Определим сегменты покупателей на основе оценок RFM"
   ]
  },
  {
   "cell_type": "code",
   "execution_count": 25,
   "metadata": {},
   "outputs": [
    {
     "data": {
      "text/html": [
       "<div>\n",
       "<style scoped>\n",
       "    .dataframe tbody tr th:only-of-type {\n",
       "        vertical-align: middle;\n",
       "    }\n",
       "\n",
       "    .dataframe tbody tr th {\n",
       "        vertical-align: top;\n",
       "    }\n",
       "\n",
       "    .dataframe thead th {\n",
       "        text-align: right;\n",
       "    }\n",
       "</style>\n",
       "<table border=\"1\" class=\"dataframe\">\n",
       "  <thead>\n",
       "    <tr style=\"text-align: right;\">\n",
       "      <th></th>\n",
       "      <th>customer_unique_id</th>\n",
       "      <th>Recency</th>\n",
       "      <th>Frequency</th>\n",
       "      <th>Monetary</th>\n",
       "      <th>R</th>\n",
       "      <th>F</th>\n",
       "      <th>M</th>\n",
       "      <th>RFM_Score</th>\n",
       "    </tr>\n",
       "  </thead>\n",
       "  <tbody>\n",
       "    <tr>\n",
       "      <th>0</th>\n",
       "      <td>0000366f3b9a7992bf8c76cfdf3221e2</td>\n",
       "      <td>161</td>\n",
       "      <td>1</td>\n",
       "      <td>129.90</td>\n",
       "      <td>3</td>\n",
       "      <td>1</td>\n",
       "      <td>3</td>\n",
       "      <td>313</td>\n",
       "    </tr>\n",
       "    <tr>\n",
       "      <th>1</th>\n",
       "      <td>0000b849f77a49e4a4ce2b2a4ca5be3f</td>\n",
       "      <td>164</td>\n",
       "      <td>1</td>\n",
       "      <td>18.90</td>\n",
       "      <td>3</td>\n",
       "      <td>1</td>\n",
       "      <td>1</td>\n",
       "      <td>311</td>\n",
       "    </tr>\n",
       "    <tr>\n",
       "      <th>2</th>\n",
       "      <td>0000f46a3911fa3c0805444483337064</td>\n",
       "      <td>586</td>\n",
       "      <td>1</td>\n",
       "      <td>69.00</td>\n",
       "      <td>1</td>\n",
       "      <td>1</td>\n",
       "      <td>2</td>\n",
       "      <td>112</td>\n",
       "    </tr>\n",
       "    <tr>\n",
       "      <th>3</th>\n",
       "      <td>0000f6ccb0745a6a4b88665a16c9f078</td>\n",
       "      <td>370</td>\n",
       "      <td>1</td>\n",
       "      <td>25.99</td>\n",
       "      <td>1</td>\n",
       "      <td>1</td>\n",
       "      <td>1</td>\n",
       "      <td>111</td>\n",
       "    </tr>\n",
       "    <tr>\n",
       "      <th>4</th>\n",
       "      <td>0004aac84e0df4da2b147fca70cf8255</td>\n",
       "      <td>337</td>\n",
       "      <td>1</td>\n",
       "      <td>180.00</td>\n",
       "      <td>1</td>\n",
       "      <td>1</td>\n",
       "      <td>3</td>\n",
       "      <td>113</td>\n",
       "    </tr>\n",
       "  </tbody>\n",
       "</table>\n",
       "</div>"
      ],
      "text/plain": [
       "                 customer_unique_id  Recency  Frequency  Monetary  R  F  M  \\\n",
       "0  0000366f3b9a7992bf8c76cfdf3221e2      161          1    129.90  3  1  3   \n",
       "1  0000b849f77a49e4a4ce2b2a4ca5be3f      164          1     18.90  3  1  1   \n",
       "2  0000f46a3911fa3c0805444483337064      586          1     69.00  1  1  2   \n",
       "3  0000f6ccb0745a6a4b88665a16c9f078      370          1     25.99  1  1  1   \n",
       "4  0004aac84e0df4da2b147fca70cf8255      337          1    180.00  1  1  3   \n",
       "\n",
       "  RFM_Score  \n",
       "0       313  \n",
       "1       311  \n",
       "2       112  \n",
       "3       111  \n",
       "4       113  "
      ]
     },
     "execution_count": 25,
     "metadata": {},
     "output_type": "execute_result"
    }
   ],
   "source": [
    "# Объединим значения R, F и M в RFM Score\n",
    "rfm['RFM_Score'] = rfm['R'].map(str) + rfm['F'].map(str) + rfm['M'].map(str)\n",
    "rfm.head()"
   ]
  },
  {
   "cell_type": "code",
   "execution_count": 15,
   "metadata": {},
   "outputs": [
    {
     "data": {
      "text/plain": [
       "<matplotlib.axes._subplots.AxesSubplot at 0x7f2ad6e15160>"
      ]
     },
     "execution_count": 15,
     "metadata": {},
     "output_type": "execute_result"
    },
    {
     "data": {
      "image/png": "[encoded data removed]",
      "text/plain": [
       "<Figure size 720x504 with 1 Axes>"
      ]
     },
     "metadata": {
      "needs_background": "light"
     },
     "output_type": "display_data"
    }
   ],
   "source": [
    "# Посмотрим на распределение RFM значений\n",
    "plt.figure(figsize=(10, 7))\n",
    "sns.countplot(y = rfm['RFM_Score'], order = rfm['RFM_Score'].sort_values().unique())"
   ]
  },
  {
   "cell_type": "markdown",
   "metadata": {},
   "source": [
    "#### 5) Выделим наиболее интересные RFM-сегменты, к которым могут быть применены различные маркетинговые действия:\n",
    "\n",
    "- Сегмент 11х - \"спящие\": покупали очень давно (336-773 дня назад) и лишь однажды \n",
    "- Сегмент 12х/13х - \"в зоне потери\": покупали очень давно (336-773 дня назад), но сделали 2 и больше покупок\n",
    "\n",
    "\n",
    "- Сегмент 21x - \"дрейфующие\": покупали не так давно (197-336 дней назад) и лишь однажды \n",
    "- Сегмент 22x/23x - \"в зоне риска\": покупали не так давно (197-336 дней назад), сделали 2 и более покупки\n",
    "\n",
    "\n",
    "- Сегмент 31х/32х - \"новички\": купили недавно (45-197 дней назад) и сделали 1-2 покупки\n",
    "- Сегмент 332/333 - \"чемпионы\": купили недавно (45-197 дней назад), покупают часто (2 и более раз) и на относительно большую сумму за 2 года (>57.99)\n",
    "\n",
    "\n",
    "Также можно объединить в более общие сегменты:\n",
    "\n",
    "- Сегмент x3x - \"лояльные\": покупатели с 3 и более покупками (таких очень мало в данных, но интересно исследовать эту группу, чтобы понять инструменты ее увеличения)\n",
    "- Сегмент x2x - \"перспективные\": покупатели с 2 покупками\n",
    "- Сегмент xx1 - \"с низкой суммой\": покупатели с низкой суммой покупок за 2 года (<57.99)"
   ]
  },
  {
   "cell_type": "code",
   "execution_count": 40,
   "metadata": {},
   "outputs": [
    {
     "data": {
      "text/html": [
       "<div>\n",
       "<style scoped>\n",
       "    .dataframe tbody tr th:only-of-type {\n",
       "        vertical-align: middle;\n",
       "    }\n",
       "\n",
       "    .dataframe tbody tr th {\n",
       "        vertical-align: top;\n",
       "    }\n",
       "\n",
       "    .dataframe thead th {\n",
       "        text-align: right;\n",
       "    }\n",
       "</style>\n",
       "<table border=\"1\" class=\"dataframe\">\n",
       "  <thead>\n",
       "    <tr style=\"text-align: right;\">\n",
       "      <th></th>\n",
       "      <th>customer_unique_id</th>\n",
       "      <th>Recency</th>\n",
       "      <th>Frequency</th>\n",
       "      <th>Monetary</th>\n",
       "      <th>R</th>\n",
       "      <th>F</th>\n",
       "      <th>M</th>\n",
       "      <th>RFM_Score</th>\n",
       "      <th>Segment</th>\n",
       "    </tr>\n",
       "  </thead>\n",
       "  <tbody>\n",
       "    <tr>\n",
       "      <th>0</th>\n",
       "      <td>0000366f3b9a7992bf8c76cfdf3221e2</td>\n",
       "      <td>161</td>\n",
       "      <td>1</td>\n",
       "      <td>129.90</td>\n",
       "      <td>3</td>\n",
       "      <td>1</td>\n",
       "      <td>3</td>\n",
       "      <td>313</td>\n",
       "      <td>новички</td>\n",
       "    </tr>\n",
       "    <tr>\n",
       "      <th>1</th>\n",
       "      <td>0000b849f77a49e4a4ce2b2a4ca5be3f</td>\n",
       "      <td>164</td>\n",
       "      <td>1</td>\n",
       "      <td>18.90</td>\n",
       "      <td>3</td>\n",
       "      <td>1</td>\n",
       "      <td>1</td>\n",
       "      <td>311</td>\n",
       "      <td>новички</td>\n",
       "    </tr>\n",
       "    <tr>\n",
       "      <th>2</th>\n",
       "      <td>0000f46a3911fa3c0805444483337064</td>\n",
       "      <td>586</td>\n",
       "      <td>1</td>\n",
       "      <td>69.00</td>\n",
       "      <td>1</td>\n",
       "      <td>1</td>\n",
       "      <td>2</td>\n",
       "      <td>112</td>\n",
       "      <td>спящие</td>\n",
       "    </tr>\n",
       "    <tr>\n",
       "      <th>3</th>\n",
       "      <td>0000f6ccb0745a6a4b88665a16c9f078</td>\n",
       "      <td>370</td>\n",
       "      <td>1</td>\n",
       "      <td>25.99</td>\n",
       "      <td>1</td>\n",
       "      <td>1</td>\n",
       "      <td>1</td>\n",
       "      <td>111</td>\n",
       "      <td>спящие</td>\n",
       "    </tr>\n",
       "    <tr>\n",
       "      <th>4</th>\n",
       "      <td>0004aac84e0df4da2b147fca70cf8255</td>\n",
       "      <td>337</td>\n",
       "      <td>1</td>\n",
       "      <td>180.00</td>\n",
       "      <td>1</td>\n",
       "      <td>1</td>\n",
       "      <td>3</td>\n",
       "      <td>113</td>\n",
       "      <td>спящие</td>\n",
       "    </tr>\n",
       "  </tbody>\n",
       "</table>\n",
       "</div>"
      ],
      "text/plain": [
       "                 customer_unique_id  Recency  Frequency  Monetary  R  F  M  \\\n",
       "0  0000366f3b9a7992bf8c76cfdf3221e2      161          1    129.90  3  1  3   \n",
       "1  0000b849f77a49e4a4ce2b2a4ca5be3f      164          1     18.90  3  1  1   \n",
       "2  0000f46a3911fa3c0805444483337064      586          1     69.00  1  1  2   \n",
       "3  0000f6ccb0745a6a4b88665a16c9f078      370          1     25.99  1  1  1   \n",
       "4  0004aac84e0df4da2b147fca70cf8255      337          1    180.00  1  1  3   \n",
       "\n",
       "  RFM_Score  Segment  \n",
       "0       313  новички  \n",
       "1       311  новички  \n",
       "2       112   спящие  \n",
       "3       111   спящие  \n",
       "4       113   спящие  "
      ]
     },
     "execution_count": 40,
     "metadata": {},
     "output_type": "execute_result"
    }
   ],
   "source": [
    "segt_map = {\n",
    "    r'11[1-3]': 'спящие',\n",
    "    r'1[2-3][1-3]': 'в зоне потери',\n",
    "    r'21[1-3]': 'дрейфующие',\n",
    "    r'2[2-3][1-3]': 'в зоне риска',\n",
    "    r'3[1-2][1-3]': 'новички',\n",
    "    r'33[2-3]': 'чемпионы'\n",
    "}\n",
    "\n",
    "rfm['Segment'] = rfm['RFM_Score'].replace(segt_map, regex=True)\n",
    "rfm.head()"
   ]
  },
  {
   "cell_type": "code",
   "execution_count": 43,
   "metadata": {},
   "outputs": [
    {
     "data": {
      "text/html": [
       "<div>\n",
       "<style scoped>\n",
       "    .dataframe tbody tr th:only-of-type {\n",
       "        vertical-align: middle;\n",
       "    }\n",
       "\n",
       "    .dataframe tbody tr th {\n",
       "        vertical-align: top;\n",
       "    }\n",
       "\n",
       "    .dataframe thead th {\n",
       "        text-align: right;\n",
       "    }\n",
       "</style>\n",
       "<table border=\"1\" class=\"dataframe\">\n",
       "  <thead>\n",
       "    <tr style=\"text-align: right;\">\n",
       "      <th></th>\n",
       "      <th>Recency_mean</th>\n",
       "      <th>Frequency_mean</th>\n",
       "      <th>Monetary_mean</th>\n",
       "      <th>n</th>\n",
       "    </tr>\n",
       "    <tr>\n",
       "      <th>Segment</th>\n",
       "      <th></th>\n",
       "      <th></th>\n",
       "      <th></th>\n",
       "      <th></th>\n",
       "    </tr>\n",
       "  </thead>\n",
       "  <tbody>\n",
       "    <tr>\n",
       "      <th>чемпионы</th>\n",
       "      <td>123.84</td>\n",
       "      <td>3.51</td>\n",
       "      <td>482.64</td>\n",
       "      <td>109</td>\n",
       "    </tr>\n",
       "    <tr>\n",
       "      <th>в зоне потери</th>\n",
       "      <td>453.90</td>\n",
       "      <td>2.09</td>\n",
       "      <td>257.46</td>\n",
       "      <td>864</td>\n",
       "    </tr>\n",
       "    <tr>\n",
       "      <th>в зоне риска</th>\n",
       "      <td>266.43</td>\n",
       "      <td>2.09</td>\n",
       "      <td>252.43</td>\n",
       "      <td>995</td>\n",
       "    </tr>\n",
       "    <tr>\n",
       "      <th>дрейфующие</th>\n",
       "      <td>268.14</td>\n",
       "      <td>1.00</td>\n",
       "      <td>133.11</td>\n",
       "      <td>30459</td>\n",
       "    </tr>\n",
       "    <tr>\n",
       "      <th>новички</th>\n",
       "      <td>124.83</td>\n",
       "      <td>1.03</td>\n",
       "      <td>144.66</td>\n",
       "      <td>31418</td>\n",
       "    </tr>\n",
       "    <tr>\n",
       "      <th>спящие</th>\n",
       "      <td>466.55</td>\n",
       "      <td>1.00</td>\n",
       "      <td>141.45</td>\n",
       "      <td>31562</td>\n",
       "    </tr>\n",
       "  </tbody>\n",
       "</table>\n",
       "</div>"
      ],
      "text/plain": [
       "               Recency_mean  Frequency_mean  Monetary_mean      n\n",
       "Segment                                                          \n",
       "чемпионы             123.84            3.51         482.64    109\n",
       "в зоне потери        453.90            2.09         257.46    864\n",
       "в зоне риска         266.43            2.09         252.43    995\n",
       "дрейфующие           268.14            1.00         133.11  30459\n",
       "новички              124.83            1.03         144.66  31418\n",
       "спящие               466.55            1.00         141.45  31562"
      ]
     },
     "execution_count": 43,
     "metadata": {},
     "output_type": "execute_result"
    }
   ],
   "source": [
    "rfm_summary = \\\n",
    "    rfm.groupby('Segment').agg(Recency_mean=('Recency', 'mean'), \n",
    "       Frequency_mean=('Frequency', 'mean'),\n",
    "       Monetary_mean=('Monetary', 'mean'),\n",
    "       n=('Monetary', 'count')).round(2).sort_values('n')\n",
    "rfm_summary"
   ]
  },
  {
   "cell_type": "markdown",
   "metadata": {},
   "source": [
    "**Общие замечания**  \n",
    "Так как 97% покупателей в наших данных совершили только 1 покупку за 2 года, можно предположить, что наш продукт не принято приобретать регулярно, в таком случае RFM-анализ может оказаться не слишком полезен.\n",
    "\n",
    "\n",
    "Но с другой стороны, у нас есть несколько покупателей с большим числом покупок (до 16) за 2 года, интересно исследовать эту группу подробнее, возможно есть потенциал заметно увеличить число повторных покупок, проведя подходящие маркетинговые компании среди RFM сегментов с 1 покупкой."
   ]
  }
 ],
 "metadata": {
  "kernelspec": {
   "display_name": "Python 3 (ipykernel)",
   "language": "python",
   "name": "python3"
  },
  "language_info": {
   "codemirror_mode": {
    "name": "ipython",
    "version": 3
   },
   "file_extension": ".py",
   "mimetype": "text/x-python",
   "name": "python",
   "nbconvert_exporter": "python",
   "pygments_lexer": "ipython3",
   "version": "3.9.13"
  }
 },
 "nbformat": 4,
 "nbformat_minor": 4
}
